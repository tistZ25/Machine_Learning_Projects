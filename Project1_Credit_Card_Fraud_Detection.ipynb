{
  "nbformat": 4,
  "nbformat_minor": 0,
  "metadata": {
    "colab": {
      "provenance": [],
      "authorship_tag": "ABX9TyOSVdTvGayLgw6hh9kKuAqg",
      "include_colab_link": true
    },
    "kernelspec": {
      "name": "python3",
      "display_name": "Python 3"
    },
    "language_info": {
      "name": "python"
    }
  },
  "cells": [
    {
      "cell_type": "markdown",
      "metadata": {
        "id": "view-in-github",
        "colab_type": "text"
      },
      "source": [
        "<a href=\"https://colab.research.google.com/github/tistZ25/Machine_Learning_Projects/blob/main/Project1_Credit_Card_Fraud_Detection.ipynb\" target=\"_parent\"><img src=\"https://colab.research.google.com/assets/colab-badge.svg\" alt=\"Open In Colab\"/></a>"
      ]
    },
    {
      "cell_type": "markdown",
      "source": [],
      "metadata": {
        "id": "lA2RN1SDYv9i"
      }
    },
    {
      "cell_type": "markdown",
      "source": [
        "Importing the dependencies:"
      ],
      "metadata": {
        "id": "vZgLdX3sYzoX"
      }
    },
    {
      "cell_type": "code",
      "source": [
        "import numpy as np\n",
        "import pandas as pd\n",
        "from sklearn.model_selection import train_test_split\n",
        "from sklearn.linear_model import LogisticRegression\n",
        "from sklearn.metrics import accuracy_score"
      ],
      "metadata": {
        "id": "yh5uK2sjY5_T"
      },
      "execution_count": 6,
      "outputs": []
    },
    {
      "cell_type": "code",
      "source": [
        "# loading the dataset to a Pandas DataFrame\n",
        "credit_card_data = pd.read_csv('/content/creditcard.csv')"
      ],
      "metadata": {
        "id": "RuAfdsamZ-_k"
      },
      "execution_count": 7,
      "outputs": []
    },
    {
      "cell_type": "code",
      "source": [
        "# first 5 rows of the dataset\n",
        "credit_card_data.head()"
      ],
      "metadata": {
        "colab": {
          "base_uri": "https://localhost:8080/",
          "height": 300
        },
        "id": "kcpg9lSHaL-7",
        "outputId": "03b1a75e-bf57-4708-dcc4-1b8864d68439"
      },
      "execution_count": 8,
      "outputs": [
        {
          "output_type": "execute_result",
          "data": {
            "text/plain": [
              "   Time        V1        V2        V3        V4        V5        V6        V7  \\\n",
              "0   0.0 -1.359807 -0.072781  2.536347  1.378155 -0.338321  0.462388  0.239599   \n",
              "1   0.0  1.191857  0.266151  0.166480  0.448154  0.060018 -0.082361 -0.078803   \n",
              "2   1.0 -1.358354 -1.340163  1.773209  0.379780 -0.503198  1.800499  0.791461   \n",
              "3   1.0 -0.966272 -0.185226  1.792993 -0.863291 -0.010309  1.247203  0.237609   \n",
              "4   2.0 -1.158233  0.877737  1.548718  0.403034 -0.407193  0.095921  0.592941   \n",
              "\n",
              "         V8        V9  ...       V21       V22       V23       V24       V25  \\\n",
              "0  0.098698  0.363787  ... -0.018307  0.277838 -0.110474  0.066928  0.128539   \n",
              "1  0.085102 -0.255425  ... -0.225775 -0.638672  0.101288 -0.339846  0.167170   \n",
              "2  0.247676 -1.514654  ...  0.247998  0.771679  0.909412 -0.689281 -0.327642   \n",
              "3  0.377436 -1.387024  ... -0.108300  0.005274 -0.190321 -1.175575  0.647376   \n",
              "4 -0.270533  0.817739  ... -0.009431  0.798278 -0.137458  0.141267 -0.206010   \n",
              "\n",
              "        V26       V27       V28  Amount  Class  \n",
              "0 -0.189115  0.133558 -0.021053  149.62    0.0  \n",
              "1  0.125895 -0.008983  0.014724    2.69    0.0  \n",
              "2 -0.139097 -0.055353 -0.059752  378.66    0.0  \n",
              "3 -0.221929  0.062723  0.061458  123.50    0.0  \n",
              "4  0.502292  0.219422  0.215153   69.99    0.0  \n",
              "\n",
              "[5 rows x 31 columns]"
            ],
            "text/html": [
              "\n",
              "  <div id=\"df-07d152cf-5bd6-4b96-9d82-6c5360dc25bc\">\n",
              "    <div class=\"colab-df-container\">\n",
              "      <div>\n",
              "<style scoped>\n",
              "    .dataframe tbody tr th:only-of-type {\n",
              "        vertical-align: middle;\n",
              "    }\n",
              "\n",
              "    .dataframe tbody tr th {\n",
              "        vertical-align: top;\n",
              "    }\n",
              "\n",
              "    .dataframe thead th {\n",
              "        text-align: right;\n",
              "    }\n",
              "</style>\n",
              "<table border=\"1\" class=\"dataframe\">\n",
              "  <thead>\n",
              "    <tr style=\"text-align: right;\">\n",
              "      <th></th>\n",
              "      <th>Time</th>\n",
              "      <th>V1</th>\n",
              "      <th>V2</th>\n",
              "      <th>V3</th>\n",
              "      <th>V4</th>\n",
              "      <th>V5</th>\n",
              "      <th>V6</th>\n",
              "      <th>V7</th>\n",
              "      <th>V8</th>\n",
              "      <th>V9</th>\n",
              "      <th>...</th>\n",
              "      <th>V21</th>\n",
              "      <th>V22</th>\n",
              "      <th>V23</th>\n",
              "      <th>V24</th>\n",
              "      <th>V25</th>\n",
              "      <th>V26</th>\n",
              "      <th>V27</th>\n",
              "      <th>V28</th>\n",
              "      <th>Amount</th>\n",
              "      <th>Class</th>\n",
              "    </tr>\n",
              "  </thead>\n",
              "  <tbody>\n",
              "    <tr>\n",
              "      <th>0</th>\n",
              "      <td>0.0</td>\n",
              "      <td>-1.359807</td>\n",
              "      <td>-0.072781</td>\n",
              "      <td>2.536347</td>\n",
              "      <td>1.378155</td>\n",
              "      <td>-0.338321</td>\n",
              "      <td>0.462388</td>\n",
              "      <td>0.239599</td>\n",
              "      <td>0.098698</td>\n",
              "      <td>0.363787</td>\n",
              "      <td>...</td>\n",
              "      <td>-0.018307</td>\n",
              "      <td>0.277838</td>\n",
              "      <td>-0.110474</td>\n",
              "      <td>0.066928</td>\n",
              "      <td>0.128539</td>\n",
              "      <td>-0.189115</td>\n",
              "      <td>0.133558</td>\n",
              "      <td>-0.021053</td>\n",
              "      <td>149.62</td>\n",
              "      <td>0.0</td>\n",
              "    </tr>\n",
              "    <tr>\n",
              "      <th>1</th>\n",
              "      <td>0.0</td>\n",
              "      <td>1.191857</td>\n",
              "      <td>0.266151</td>\n",
              "      <td>0.166480</td>\n",
              "      <td>0.448154</td>\n",
              "      <td>0.060018</td>\n",
              "      <td>-0.082361</td>\n",
              "      <td>-0.078803</td>\n",
              "      <td>0.085102</td>\n",
              "      <td>-0.255425</td>\n",
              "      <td>...</td>\n",
              "      <td>-0.225775</td>\n",
              "      <td>-0.638672</td>\n",
              "      <td>0.101288</td>\n",
              "      <td>-0.339846</td>\n",
              "      <td>0.167170</td>\n",
              "      <td>0.125895</td>\n",
              "      <td>-0.008983</td>\n",
              "      <td>0.014724</td>\n",
              "      <td>2.69</td>\n",
              "      <td>0.0</td>\n",
              "    </tr>\n",
              "    <tr>\n",
              "      <th>2</th>\n",
              "      <td>1.0</td>\n",
              "      <td>-1.358354</td>\n",
              "      <td>-1.340163</td>\n",
              "      <td>1.773209</td>\n",
              "      <td>0.379780</td>\n",
              "      <td>-0.503198</td>\n",
              "      <td>1.800499</td>\n",
              "      <td>0.791461</td>\n",
              "      <td>0.247676</td>\n",
              "      <td>-1.514654</td>\n",
              "      <td>...</td>\n",
              "      <td>0.247998</td>\n",
              "      <td>0.771679</td>\n",
              "      <td>0.909412</td>\n",
              "      <td>-0.689281</td>\n",
              "      <td>-0.327642</td>\n",
              "      <td>-0.139097</td>\n",
              "      <td>-0.055353</td>\n",
              "      <td>-0.059752</td>\n",
              "      <td>378.66</td>\n",
              "      <td>0.0</td>\n",
              "    </tr>\n",
              "    <tr>\n",
              "      <th>3</th>\n",
              "      <td>1.0</td>\n",
              "      <td>-0.966272</td>\n",
              "      <td>-0.185226</td>\n",
              "      <td>1.792993</td>\n",
              "      <td>-0.863291</td>\n",
              "      <td>-0.010309</td>\n",
              "      <td>1.247203</td>\n",
              "      <td>0.237609</td>\n",
              "      <td>0.377436</td>\n",
              "      <td>-1.387024</td>\n",
              "      <td>...</td>\n",
              "      <td>-0.108300</td>\n",
              "      <td>0.005274</td>\n",
              "      <td>-0.190321</td>\n",
              "      <td>-1.175575</td>\n",
              "      <td>0.647376</td>\n",
              "      <td>-0.221929</td>\n",
              "      <td>0.062723</td>\n",
              "      <td>0.061458</td>\n",
              "      <td>123.50</td>\n",
              "      <td>0.0</td>\n",
              "    </tr>\n",
              "    <tr>\n",
              "      <th>4</th>\n",
              "      <td>2.0</td>\n",
              "      <td>-1.158233</td>\n",
              "      <td>0.877737</td>\n",
              "      <td>1.548718</td>\n",
              "      <td>0.403034</td>\n",
              "      <td>-0.407193</td>\n",
              "      <td>0.095921</td>\n",
              "      <td>0.592941</td>\n",
              "      <td>-0.270533</td>\n",
              "      <td>0.817739</td>\n",
              "      <td>...</td>\n",
              "      <td>-0.009431</td>\n",
              "      <td>0.798278</td>\n",
              "      <td>-0.137458</td>\n",
              "      <td>0.141267</td>\n",
              "      <td>-0.206010</td>\n",
              "      <td>0.502292</td>\n",
              "      <td>0.219422</td>\n",
              "      <td>0.215153</td>\n",
              "      <td>69.99</td>\n",
              "      <td>0.0</td>\n",
              "    </tr>\n",
              "  </tbody>\n",
              "</table>\n",
              "<p>5 rows × 31 columns</p>\n",
              "</div>\n",
              "      <button class=\"colab-df-convert\" onclick=\"convertToInteractive('df-07d152cf-5bd6-4b96-9d82-6c5360dc25bc')\"\n",
              "              title=\"Convert this dataframe to an interactive table.\"\n",
              "              style=\"display:none;\">\n",
              "        \n",
              "  <svg xmlns=\"http://www.w3.org/2000/svg\" height=\"24px\"viewBox=\"0 0 24 24\"\n",
              "       width=\"24px\">\n",
              "    <path d=\"M0 0h24v24H0V0z\" fill=\"none\"/>\n",
              "    <path d=\"M18.56 5.44l.94 2.06.94-2.06 2.06-.94-2.06-.94-.94-2.06-.94 2.06-2.06.94zm-11 1L8.5 8.5l.94-2.06 2.06-.94-2.06-.94L8.5 2.5l-.94 2.06-2.06.94zm10 10l.94 2.06.94-2.06 2.06-.94-2.06-.94-.94-2.06-.94 2.06-2.06.94z\"/><path d=\"M17.41 7.96l-1.37-1.37c-.4-.4-.92-.59-1.43-.59-.52 0-1.04.2-1.43.59L10.3 9.45l-7.72 7.72c-.78.78-.78 2.05 0 2.83L4 21.41c.39.39.9.59 1.41.59.51 0 1.02-.2 1.41-.59l7.78-7.78 2.81-2.81c.8-.78.8-2.07 0-2.86zM5.41 20L4 18.59l7.72-7.72 1.47 1.35L5.41 20z\"/>\n",
              "  </svg>\n",
              "      </button>\n",
              "      \n",
              "  <style>\n",
              "    .colab-df-container {\n",
              "      display:flex;\n",
              "      flex-wrap:wrap;\n",
              "      gap: 12px;\n",
              "    }\n",
              "\n",
              "    .colab-df-convert {\n",
              "      background-color: #E8F0FE;\n",
              "      border: none;\n",
              "      border-radius: 50%;\n",
              "      cursor: pointer;\n",
              "      display: none;\n",
              "      fill: #1967D2;\n",
              "      height: 32px;\n",
              "      padding: 0 0 0 0;\n",
              "      width: 32px;\n",
              "    }\n",
              "\n",
              "    .colab-df-convert:hover {\n",
              "      background-color: #E2EBFA;\n",
              "      box-shadow: 0px 1px 2px rgba(60, 64, 67, 0.3), 0px 1px 3px 1px rgba(60, 64, 67, 0.15);\n",
              "      fill: #174EA6;\n",
              "    }\n",
              "\n",
              "    [theme=dark] .colab-df-convert {\n",
              "      background-color: #3B4455;\n",
              "      fill: #D2E3FC;\n",
              "    }\n",
              "\n",
              "    [theme=dark] .colab-df-convert:hover {\n",
              "      background-color: #434B5C;\n",
              "      box-shadow: 0px 1px 3px 1px rgba(0, 0, 0, 0.15);\n",
              "      filter: drop-shadow(0px 1px 2px rgba(0, 0, 0, 0.3));\n",
              "      fill: #FFFFFF;\n",
              "    }\n",
              "  </style>\n",
              "\n",
              "      <script>\n",
              "        const buttonEl =\n",
              "          document.querySelector('#df-07d152cf-5bd6-4b96-9d82-6c5360dc25bc button.colab-df-convert');\n",
              "        buttonEl.style.display =\n",
              "          google.colab.kernel.accessAllowed ? 'block' : 'none';\n",
              "\n",
              "        async function convertToInteractive(key) {\n",
              "          const element = document.querySelector('#df-07d152cf-5bd6-4b96-9d82-6c5360dc25bc');\n",
              "          const dataTable =\n",
              "            await google.colab.kernel.invokeFunction('convertToInteractive',\n",
              "                                                     [key], {});\n",
              "          if (!dataTable) return;\n",
              "\n",
              "          const docLinkHtml = 'Like what you see? Visit the ' +\n",
              "            '<a target=\"_blank\" href=https://colab.research.google.com/notebooks/data_table.ipynb>data table notebook</a>'\n",
              "            + ' to learn more about interactive tables.';\n",
              "          element.innerHTML = '';\n",
              "          dataTable['output_type'] = 'display_data';\n",
              "          await google.colab.output.renderOutput(dataTable, element);\n",
              "          const docLink = document.createElement('div');\n",
              "          docLink.innerHTML = docLinkHtml;\n",
              "          element.appendChild(docLink);\n",
              "        }\n",
              "      </script>\n",
              "    </div>\n",
              "  </div>\n",
              "  "
            ]
          },
          "metadata": {},
          "execution_count": 8
        }
      ]
    },
    {
      "cell_type": "code",
      "source": [
        "credit_card_data.tail()"
      ],
      "metadata": {
        "colab": {
          "base_uri": "https://localhost:8080/",
          "height": 300
        },
        "id": "HLzma1bFaWM9",
        "outputId": "6ec6dd6b-872a-49b2-e454-240793adf921"
      },
      "execution_count": 9,
      "outputs": [
        {
          "output_type": "execute_result",
          "data": {
            "text/plain": [
              "            Time        V1        V2        V3        V4        V5        V6  \\\n",
              "162552  115210.0  2.114128 -1.104488  0.415559 -0.749874 -1.717262 -0.387432   \n",
              "162553  115211.0  1.972488  0.052897 -1.960439  1.080410  0.922172 -0.136797   \n",
              "162554  115211.0  1.957099 -0.564585 -0.336281  0.229964 -0.691445 -0.115662   \n",
              "162555  115211.0  1.850556 -0.850150 -1.826873 -0.526510  1.710747  3.824289   \n",
              "162556  115211.0 -0.694980  0.247120  2.074755 -0.017298 -0.215007 -0.235263   \n",
              "\n",
              "              V7        V8        V9  ...       V21       V22       V23  \\\n",
              "162552 -1.560780 -0.004930  0.436754  ...  0.441625  1.448872  0.180504   \n",
              "162553  0.498360 -0.142762 -0.011417  ...  0.080830  0.313451 -0.057854   \n",
              "162554 -0.769791  0.098782  1.052559  ...  0.247960  0.897746  0.074085   \n",
              "162555 -1.112847  0.998865  0.863568  ...  0.229472  0.534459  0.156911   \n",
              "162556 -0.037201  0.164253  0.247815  ...  0.220919  0.645922 -0.408868   \n",
              "\n",
              "             V24       V25       V26       V27       V28  Amount  Class  \n",
              "162552  0.118535 -0.375367 -0.098409  0.065220 -0.028177    9.99    0.0  \n",
              "162553  0.220695  0.490273 -0.515163 -0.030846 -0.065219   37.40    0.0  \n",
              "162554 -0.261071 -0.246790  0.741045 -0.033620 -0.061522   17.90    0.0  \n",
              "162555  0.742622 -0.274273  0.369661 -0.006685 -0.038230   76.50    0.0  \n",
              "162556 -0.055975  0.384300  1.057126  0.000000       NaN     NaN    NaN  \n",
              "\n",
              "[5 rows x 31 columns]"
            ],
            "text/html": [
              "\n",
              "  <div id=\"df-0755d276-8194-44a4-b409-4fdb0599a8cd\">\n",
              "    <div class=\"colab-df-container\">\n",
              "      <div>\n",
              "<style scoped>\n",
              "    .dataframe tbody tr th:only-of-type {\n",
              "        vertical-align: middle;\n",
              "    }\n",
              "\n",
              "    .dataframe tbody tr th {\n",
              "        vertical-align: top;\n",
              "    }\n",
              "\n",
              "    .dataframe thead th {\n",
              "        text-align: right;\n",
              "    }\n",
              "</style>\n",
              "<table border=\"1\" class=\"dataframe\">\n",
              "  <thead>\n",
              "    <tr style=\"text-align: right;\">\n",
              "      <th></th>\n",
              "      <th>Time</th>\n",
              "      <th>V1</th>\n",
              "      <th>V2</th>\n",
              "      <th>V3</th>\n",
              "      <th>V4</th>\n",
              "      <th>V5</th>\n",
              "      <th>V6</th>\n",
              "      <th>V7</th>\n",
              "      <th>V8</th>\n",
              "      <th>V9</th>\n",
              "      <th>...</th>\n",
              "      <th>V21</th>\n",
              "      <th>V22</th>\n",
              "      <th>V23</th>\n",
              "      <th>V24</th>\n",
              "      <th>V25</th>\n",
              "      <th>V26</th>\n",
              "      <th>V27</th>\n",
              "      <th>V28</th>\n",
              "      <th>Amount</th>\n",
              "      <th>Class</th>\n",
              "    </tr>\n",
              "  </thead>\n",
              "  <tbody>\n",
              "    <tr>\n",
              "      <th>162552</th>\n",
              "      <td>115210.0</td>\n",
              "      <td>2.114128</td>\n",
              "      <td>-1.104488</td>\n",
              "      <td>0.415559</td>\n",
              "      <td>-0.749874</td>\n",
              "      <td>-1.717262</td>\n",
              "      <td>-0.387432</td>\n",
              "      <td>-1.560780</td>\n",
              "      <td>-0.004930</td>\n",
              "      <td>0.436754</td>\n",
              "      <td>...</td>\n",
              "      <td>0.441625</td>\n",
              "      <td>1.448872</td>\n",
              "      <td>0.180504</td>\n",
              "      <td>0.118535</td>\n",
              "      <td>-0.375367</td>\n",
              "      <td>-0.098409</td>\n",
              "      <td>0.065220</td>\n",
              "      <td>-0.028177</td>\n",
              "      <td>9.99</td>\n",
              "      <td>0.0</td>\n",
              "    </tr>\n",
              "    <tr>\n",
              "      <th>162553</th>\n",
              "      <td>115211.0</td>\n",
              "      <td>1.972488</td>\n",
              "      <td>0.052897</td>\n",
              "      <td>-1.960439</td>\n",
              "      <td>1.080410</td>\n",
              "      <td>0.922172</td>\n",
              "      <td>-0.136797</td>\n",
              "      <td>0.498360</td>\n",
              "      <td>-0.142762</td>\n",
              "      <td>-0.011417</td>\n",
              "      <td>...</td>\n",
              "      <td>0.080830</td>\n",
              "      <td>0.313451</td>\n",
              "      <td>-0.057854</td>\n",
              "      <td>0.220695</td>\n",
              "      <td>0.490273</td>\n",
              "      <td>-0.515163</td>\n",
              "      <td>-0.030846</td>\n",
              "      <td>-0.065219</td>\n",
              "      <td>37.40</td>\n",
              "      <td>0.0</td>\n",
              "    </tr>\n",
              "    <tr>\n",
              "      <th>162554</th>\n",
              "      <td>115211.0</td>\n",
              "      <td>1.957099</td>\n",
              "      <td>-0.564585</td>\n",
              "      <td>-0.336281</td>\n",
              "      <td>0.229964</td>\n",
              "      <td>-0.691445</td>\n",
              "      <td>-0.115662</td>\n",
              "      <td>-0.769791</td>\n",
              "      <td>0.098782</td>\n",
              "      <td>1.052559</td>\n",
              "      <td>...</td>\n",
              "      <td>0.247960</td>\n",
              "      <td>0.897746</td>\n",
              "      <td>0.074085</td>\n",
              "      <td>-0.261071</td>\n",
              "      <td>-0.246790</td>\n",
              "      <td>0.741045</td>\n",
              "      <td>-0.033620</td>\n",
              "      <td>-0.061522</td>\n",
              "      <td>17.90</td>\n",
              "      <td>0.0</td>\n",
              "    </tr>\n",
              "    <tr>\n",
              "      <th>162555</th>\n",
              "      <td>115211.0</td>\n",
              "      <td>1.850556</td>\n",
              "      <td>-0.850150</td>\n",
              "      <td>-1.826873</td>\n",
              "      <td>-0.526510</td>\n",
              "      <td>1.710747</td>\n",
              "      <td>3.824289</td>\n",
              "      <td>-1.112847</td>\n",
              "      <td>0.998865</td>\n",
              "      <td>0.863568</td>\n",
              "      <td>...</td>\n",
              "      <td>0.229472</td>\n",
              "      <td>0.534459</td>\n",
              "      <td>0.156911</td>\n",
              "      <td>0.742622</td>\n",
              "      <td>-0.274273</td>\n",
              "      <td>0.369661</td>\n",
              "      <td>-0.006685</td>\n",
              "      <td>-0.038230</td>\n",
              "      <td>76.50</td>\n",
              "      <td>0.0</td>\n",
              "    </tr>\n",
              "    <tr>\n",
              "      <th>162556</th>\n",
              "      <td>115211.0</td>\n",
              "      <td>-0.694980</td>\n",
              "      <td>0.247120</td>\n",
              "      <td>2.074755</td>\n",
              "      <td>-0.017298</td>\n",
              "      <td>-0.215007</td>\n",
              "      <td>-0.235263</td>\n",
              "      <td>-0.037201</td>\n",
              "      <td>0.164253</td>\n",
              "      <td>0.247815</td>\n",
              "      <td>...</td>\n",
              "      <td>0.220919</td>\n",
              "      <td>0.645922</td>\n",
              "      <td>-0.408868</td>\n",
              "      <td>-0.055975</td>\n",
              "      <td>0.384300</td>\n",
              "      <td>1.057126</td>\n",
              "      <td>0.000000</td>\n",
              "      <td>NaN</td>\n",
              "      <td>NaN</td>\n",
              "      <td>NaN</td>\n",
              "    </tr>\n",
              "  </tbody>\n",
              "</table>\n",
              "<p>5 rows × 31 columns</p>\n",
              "</div>\n",
              "      <button class=\"colab-df-convert\" onclick=\"convertToInteractive('df-0755d276-8194-44a4-b409-4fdb0599a8cd')\"\n",
              "              title=\"Convert this dataframe to an interactive table.\"\n",
              "              style=\"display:none;\">\n",
              "        \n",
              "  <svg xmlns=\"http://www.w3.org/2000/svg\" height=\"24px\"viewBox=\"0 0 24 24\"\n",
              "       width=\"24px\">\n",
              "    <path d=\"M0 0h24v24H0V0z\" fill=\"none\"/>\n",
              "    <path d=\"M18.56 5.44l.94 2.06.94-2.06 2.06-.94-2.06-.94-.94-2.06-.94 2.06-2.06.94zm-11 1L8.5 8.5l.94-2.06 2.06-.94-2.06-.94L8.5 2.5l-.94 2.06-2.06.94zm10 10l.94 2.06.94-2.06 2.06-.94-2.06-.94-.94-2.06-.94 2.06-2.06.94z\"/><path d=\"M17.41 7.96l-1.37-1.37c-.4-.4-.92-.59-1.43-.59-.52 0-1.04.2-1.43.59L10.3 9.45l-7.72 7.72c-.78.78-.78 2.05 0 2.83L4 21.41c.39.39.9.59 1.41.59.51 0 1.02-.2 1.41-.59l7.78-7.78 2.81-2.81c.8-.78.8-2.07 0-2.86zM5.41 20L4 18.59l7.72-7.72 1.47 1.35L5.41 20z\"/>\n",
              "  </svg>\n",
              "      </button>\n",
              "      \n",
              "  <style>\n",
              "    .colab-df-container {\n",
              "      display:flex;\n",
              "      flex-wrap:wrap;\n",
              "      gap: 12px;\n",
              "    }\n",
              "\n",
              "    .colab-df-convert {\n",
              "      background-color: #E8F0FE;\n",
              "      border: none;\n",
              "      border-radius: 50%;\n",
              "      cursor: pointer;\n",
              "      display: none;\n",
              "      fill: #1967D2;\n",
              "      height: 32px;\n",
              "      padding: 0 0 0 0;\n",
              "      width: 32px;\n",
              "    }\n",
              "\n",
              "    .colab-df-convert:hover {\n",
              "      background-color: #E2EBFA;\n",
              "      box-shadow: 0px 1px 2px rgba(60, 64, 67, 0.3), 0px 1px 3px 1px rgba(60, 64, 67, 0.15);\n",
              "      fill: #174EA6;\n",
              "    }\n",
              "\n",
              "    [theme=dark] .colab-df-convert {\n",
              "      background-color: #3B4455;\n",
              "      fill: #D2E3FC;\n",
              "    }\n",
              "\n",
              "    [theme=dark] .colab-df-convert:hover {\n",
              "      background-color: #434B5C;\n",
              "      box-shadow: 0px 1px 3px 1px rgba(0, 0, 0, 0.15);\n",
              "      filter: drop-shadow(0px 1px 2px rgba(0, 0, 0, 0.3));\n",
              "      fill: #FFFFFF;\n",
              "    }\n",
              "  </style>\n",
              "\n",
              "      <script>\n",
              "        const buttonEl =\n",
              "          document.querySelector('#df-0755d276-8194-44a4-b409-4fdb0599a8cd button.colab-df-convert');\n",
              "        buttonEl.style.display =\n",
              "          google.colab.kernel.accessAllowed ? 'block' : 'none';\n",
              "\n",
              "        async function convertToInteractive(key) {\n",
              "          const element = document.querySelector('#df-0755d276-8194-44a4-b409-4fdb0599a8cd');\n",
              "          const dataTable =\n",
              "            await google.colab.kernel.invokeFunction('convertToInteractive',\n",
              "                                                     [key], {});\n",
              "          if (!dataTable) return;\n",
              "\n",
              "          const docLinkHtml = 'Like what you see? Visit the ' +\n",
              "            '<a target=\"_blank\" href=https://colab.research.google.com/notebooks/data_table.ipynb>data table notebook</a>'\n",
              "            + ' to learn more about interactive tables.';\n",
              "          element.innerHTML = '';\n",
              "          dataTable['output_type'] = 'display_data';\n",
              "          await google.colab.output.renderOutput(dataTable, element);\n",
              "          const docLink = document.createElement('div');\n",
              "          docLink.innerHTML = docLinkHtml;\n",
              "          element.appendChild(docLink);\n",
              "        }\n",
              "      </script>\n",
              "    </div>\n",
              "  </div>\n",
              "  "
            ]
          },
          "metadata": {},
          "execution_count": 9
        }
      ]
    },
    {
      "cell_type": "code",
      "source": [
        "# dataset informations\n",
        "credit_card_data.info()"
      ],
      "metadata": {
        "colab": {
          "base_uri": "https://localhost:8080/"
        },
        "id": "7Lwmc-8lckLd",
        "outputId": "78403efe-c2ca-4ffd-f61c-efa9f61e116d"
      },
      "execution_count": 11,
      "outputs": [
        {
          "output_type": "stream",
          "name": "stdout",
          "text": [
            "<class 'pandas.core.frame.DataFrame'>\n",
            "RangeIndex: 162557 entries, 0 to 162556\n",
            "Data columns (total 31 columns):\n",
            " #   Column  Non-Null Count   Dtype  \n",
            "---  ------  --------------   -----  \n",
            " 0   Time    162557 non-null  float64\n",
            " 1   V1      162557 non-null  float64\n",
            " 2   V2      162557 non-null  float64\n",
            " 3   V3      162557 non-null  float64\n",
            " 4   V4      162557 non-null  float64\n",
            " 5   V5      162557 non-null  float64\n",
            " 6   V6      162557 non-null  float64\n",
            " 7   V7      162557 non-null  float64\n",
            " 8   V8      162557 non-null  float64\n",
            " 9   V9      162557 non-null  float64\n",
            " 10  V10     162557 non-null  float64\n",
            " 11  V11     162557 non-null  float64\n",
            " 12  V12     162557 non-null  float64\n",
            " 13  V13     162557 non-null  float64\n",
            " 14  V14     162557 non-null  float64\n",
            " 15  V15     162557 non-null  float64\n",
            " 16  V16     162557 non-null  float64\n",
            " 17  V17     162557 non-null  float64\n",
            " 18  V18     162557 non-null  float64\n",
            " 19  V19     162557 non-null  float64\n",
            " 20  V20     162557 non-null  float64\n",
            " 21  V21     162557 non-null  float64\n",
            " 22  V22     162557 non-null  float64\n",
            " 23  V23     162557 non-null  float64\n",
            " 24  V24     162557 non-null  float64\n",
            " 25  V25     162557 non-null  float64\n",
            " 26  V26     162557 non-null  float64\n",
            " 27  V27     162557 non-null  float64\n",
            " 28  V28     162556 non-null  float64\n",
            " 29  Amount  162556 non-null  float64\n",
            " 30  Class   162556 non-null  float64\n",
            "dtypes: float64(31)\n",
            "memory usage: 38.4 MB\n"
          ]
        }
      ]
    },
    {
      "cell_type": "code",
      "source": [
        "# checking the number of missing values in each column\n",
        "credit_card_data.isnull().sum()"
      ],
      "metadata": {
        "colab": {
          "base_uri": "https://localhost:8080/"
        },
        "id": "M81on0vUcyMP",
        "outputId": "cb1faaf9-2de4-450d-b604-be68c6426db6"
      },
      "execution_count": 12,
      "outputs": [
        {
          "output_type": "execute_result",
          "data": {
            "text/plain": [
              "Time      0\n",
              "V1        0\n",
              "V2        0\n",
              "V3        0\n",
              "V4        0\n",
              "V5        0\n",
              "V6        0\n",
              "V7        0\n",
              "V8        0\n",
              "V9        0\n",
              "V10       0\n",
              "V11       0\n",
              "V12       0\n",
              "V13       0\n",
              "V14       0\n",
              "V15       0\n",
              "V16       0\n",
              "V17       0\n",
              "V18       0\n",
              "V19       0\n",
              "V20       0\n",
              "V21       0\n",
              "V22       0\n",
              "V23       0\n",
              "V24       0\n",
              "V25       0\n",
              "V26       0\n",
              "V27       0\n",
              "V28       1\n",
              "Amount    1\n",
              "Class     1\n",
              "dtype: int64"
            ]
          },
          "metadata": {},
          "execution_count": 12
        }
      ]
    },
    {
      "cell_type": "code",
      "source": [
        "credit_card_data.shape"
      ],
      "metadata": {
        "colab": {
          "base_uri": "https://localhost:8080/"
        },
        "id": "bj0D9ViDdJUJ",
        "outputId": "2249f84f-ed16-4334-8a1d-45b4aa31bf67"
      },
      "execution_count": 13,
      "outputs": [
        {
          "output_type": "execute_result",
          "data": {
            "text/plain": [
              "(162557, 31)"
            ]
          },
          "metadata": {},
          "execution_count": 13
        }
      ]
    },
    {
      "cell_type": "code",
      "source": [
        "# analyse the distribution of data in the v18 column\n",
        "import matplotlib.pyplot as plt\n",
        "import seaborn as sns\n"
      ],
      "metadata": {
        "id": "FI0vTJcbjm3p"
      },
      "execution_count": 14,
      "outputs": []
    },
    {
      "cell_type": "code",
      "source": [
        "fig, ax = plt.subplots(figsize=(8,8))\n",
        "sns.distplot(credit_card_data.V28)"
      ],
      "metadata": {
        "colab": {
          "base_uri": "https://localhost:8080/",
          "height": 904
        },
        "id": "bS8pLOeAj_4h",
        "outputId": "c403efbc-d372-4218-a3b2-e723913ff1d3"
      },
      "execution_count": 15,
      "outputs": [
        {
          "output_type": "stream",
          "name": "stderr",
          "text": [
            "<ipython-input-15-a73d5e7bc977>:2: UserWarning: \n",
            "\n",
            "`distplot` is a deprecated function and will be removed in seaborn v0.14.0.\n",
            "\n",
            "Please adapt your code to use either `displot` (a figure-level function with\n",
            "similar flexibility) or `histplot` (an axes-level function for histograms).\n",
            "\n",
            "For a guide to updating your code to use the new functions, please see\n",
            "https://gist.github.com/mwaskom/de44147ed2974457ad6372750bbe5751\n",
            "\n",
            "  sns.distplot(credit_card_data.V28)\n"
          ]
        },
        {
          "output_type": "execute_result",
          "data": {
            "text/plain": [
              "<Axes: xlabel='V28', ylabel='Density'>"
            ]
          },
          "metadata": {},
          "execution_count": 15
        },
        {
          "output_type": "display_data",
          "data": {
            "text/plain": [
              "<Figure size 800x800 with 1 Axes>"
            ],
            "image/png": "[encoded data removed]"
          },
          "metadata": {}
        }
      ]
    },
    {
      "cell_type": "code",
      "source": [
        "credit_card_data['V28'].fillna(credit_card_data['V28'].median(),inplace=True)\n",
        "credit_card_data['Amount'].fillna(credit_card_data['Amount'].median(),inplace=True)\n",
        "credit_card_data['Class'].fillna(credit_card_data['Class'].median(),inplace=True)"
      ],
      "metadata": {
        "id": "6SmIJFpvkK1X"
      },
      "execution_count": 16,
      "outputs": []
    },
    {
      "cell_type": "code",
      "source": [
        "credit_card_data.isnull().sum()"
      ],
      "metadata": {
        "colab": {
          "base_uri": "https://localhost:8080/"
        },
        "id": "NqviDN7zkhcU",
        "outputId": "ed2a28be-b771-4b43-ef11-83f2e9415fcb"
      },
      "execution_count": 17,
      "outputs": [
        {
          "output_type": "execute_result",
          "data": {
            "text/plain": [
              "Time      0\n",
              "V1        0\n",
              "V2        0\n",
              "V3        0\n",
              "V4        0\n",
              "V5        0\n",
              "V6        0\n",
              "V7        0\n",
              "V8        0\n",
              "V9        0\n",
              "V10       0\n",
              "V11       0\n",
              "V12       0\n",
              "V13       0\n",
              "V14       0\n",
              "V15       0\n",
              "V16       0\n",
              "V17       0\n",
              "V18       0\n",
              "V19       0\n",
              "V20       0\n",
              "V21       0\n",
              "V22       0\n",
              "V23       0\n",
              "V24       0\n",
              "V25       0\n",
              "V26       0\n",
              "V27       0\n",
              "V28       0\n",
              "Amount    0\n",
              "Class     0\n",
              "dtype: int64"
            ]
          },
          "metadata": {},
          "execution_count": 17
        }
      ]
    },
    {
      "cell_type": "code",
      "source": [
        "# very less data points for fraudulant transaction"
      ],
      "metadata": {
        "id": "9h2Shz2HnZV_"
      },
      "execution_count": null,
      "outputs": []
    },
    {
      "cell_type": "markdown",
      "source": [
        "This Dataset is highly unbalanced"
      ],
      "metadata": {
        "id": "7y1M88dWntPi"
      }
    },
    {
      "cell_type": "markdown",
      "source": [
        "0 --> Normal Transaction\n",
        "\n",
        "1 --> Fraudulant Transaction"
      ],
      "metadata": {
        "id": "ZLIMlxpHn028"
      }
    },
    {
      "cell_type": "code",
      "source": [
        "# seperating the data for analysis\n",
        "legit = credit_card_data[credit_card_data.Class == 0]\n",
        "fraud = credit_card_data[credit_card_data.Class == 1]"
      ],
      "metadata": {
        "id": "WQ74lFvWn9vT"
      },
      "execution_count": 18,
      "outputs": []
    },
    {
      "cell_type": "code",
      "source": [
        "print(legit.shape)\n",
        "print(fraud.shape)"
      ],
      "metadata": {
        "colab": {
          "base_uri": "https://localhost:8080/"
        },
        "id": "52qzmKp_oh91",
        "outputId": "980cabc6-b070-4dcf-b6bd-178f83489055"
      },
      "execution_count": 19,
      "outputs": [
        {
          "output_type": "stream",
          "name": "stdout",
          "text": [
            "(162201, 31)\n",
            "(356, 31)\n"
          ]
        }
      ]
    },
    {
      "cell_type": "code",
      "source": [
        "# statistical measures of the data\n",
        "legit.Amount.describe()"
      ],
      "metadata": {
        "colab": {
          "base_uri": "https://localhost:8080/"
        },
        "id": "JN5VJC30ooPm",
        "outputId": "cd279bd6-03b0-4a9b-97f4-2a8bb965563d"
      },
      "execution_count": 20,
      "outputs": [
        {
          "output_type": "execute_result",
          "data": {
            "text/plain": [
              "count    162201.000000\n",
              "mean         86.929438\n",
              "std         244.399481\n",
              "min           0.000000\n",
              "25%           5.380000\n",
              "50%          21.350000\n",
              "75%          76.070000\n",
              "max       19656.530000\n",
              "Name: Amount, dtype: float64"
            ]
          },
          "metadata": {},
          "execution_count": 20
        }
      ]
    },
    {
      "cell_type": "code",
      "source": [
        "fraud.Amount.describe()"
      ],
      "metadata": {
        "colab": {
          "base_uri": "https://localhost:8080/"
        },
        "id": "mZZ92N5qo11g",
        "outputId": "f000c778-b089-48e5-a666-747e61210e89"
      },
      "execution_count": 21,
      "outputs": [
        {
          "output_type": "execute_result",
          "data": {
            "text/plain": [
              "count     356.000000\n",
              "mean      112.005000\n",
              "std       228.517058\n",
              "min         0.000000\n",
              "25%         1.000000\n",
              "50%         9.905000\n",
              "75%       102.125000\n",
              "max      1809.680000\n",
              "Name: Amount, dtype: float64"
            ]
          },
          "metadata": {},
          "execution_count": 21
        }
      ]
    },
    {
      "cell_type": "code",
      "source": [
        "# compare the values for both transactions\n",
        "credit_card_data.groupby('Class').mean()"
      ],
      "metadata": {
        "colab": {
          "base_uri": "https://localhost:8080/",
          "height": 237
        },
        "id": "-E3r-AqRpIKv",
        "outputId": "9ccf7d67-8562-477a-a823-d140b07f79e4"
      },
      "execution_count": 22,
      "outputs": [
        {
          "output_type": "execute_result",
          "data": {
            "text/plain": [
              "               Time        V1        V2        V3        V4        V5  \\\n",
              "Class                                                                   \n",
              "0.0    58176.720550 -0.185444  0.042135  0.569689  0.124499 -0.191311   \n",
              "1.0    55968.873596 -6.057284  4.419181 -8.006879  4.902106 -4.402531   \n",
              "\n",
              "             V6        V7        V8        V9  ...       V20       V21  \\\n",
              "Class                                          ...                       \n",
              "0.0    0.067595 -0.076600  0.038895  0.027552  ...  0.032755 -0.036009   \n",
              "1.0   -1.445960 -7.057336  0.778068 -2.884994  ...  0.413879  0.767732   \n",
              "\n",
              "            V22       V23       V24       V25       V26       V27       V28  \\\n",
              "Class                                                                         \n",
              "0.0   -0.096154 -0.025342  0.010510  0.103689  0.014088  0.001871  0.002442   \n",
              "1.0   -0.017997 -0.045050 -0.073773  0.080805  0.036841  0.181541  0.044143   \n",
              "\n",
              "           Amount  \n",
              "Class              \n",
              "0.0     86.929438  \n",
              "1.0    112.005000  \n",
              "\n",
              "[2 rows x 30 columns]"
            ],
            "text/html": [
              "\n",
              "  <div id=\"df-e400962a-0819-4e6e-a6ed-5f3c49889dd6\">\n",
              "    <div class=\"colab-df-container\">\n",
              "      <div>\n",
              "<style scoped>\n",
              "    .dataframe tbody tr th:only-of-type {\n",
              "        vertical-align: middle;\n",
              "    }\n",
              "\n",
              "    .dataframe tbody tr th {\n",
              "        vertical-align: top;\n",
              "    }\n",
              "\n",
              "    .dataframe thead th {\n",
              "        text-align: right;\n",
              "    }\n",
              "</style>\n",
              "<table border=\"1\" class=\"dataframe\">\n",
              "  <thead>\n",
              "    <tr style=\"text-align: right;\">\n",
              "      <th></th>\n",
              "      <th>Time</th>\n",
              "      <th>V1</th>\n",
              "      <th>V2</th>\n",
              "      <th>V3</th>\n",
              "      <th>V4</th>\n",
              "      <th>V5</th>\n",
              "      <th>V6</th>\n",
              "      <th>V7</th>\n",
              "      <th>V8</th>\n",
              "      <th>V9</th>\n",
              "      <th>...</th>\n",
              "      <th>V20</th>\n",
              "      <th>V21</th>\n",
              "      <th>V22</th>\n",
              "      <th>V23</th>\n",
              "      <th>V24</th>\n",
              "      <th>V25</th>\n",
              "      <th>V26</th>\n",
              "      <th>V27</th>\n",
              "      <th>V28</th>\n",
              "      <th>Amount</th>\n",
              "    </tr>\n",
              "    <tr>\n",
              "      <th>Class</th>\n",
              "      <th></th>\n",
              "      <th></th>\n",
              "      <th></th>\n",
              "      <th></th>\n",
              "      <th></th>\n",
              "      <th></th>\n",
              "      <th></th>\n",
              "      <th></th>\n",
              "      <th></th>\n",
              "      <th></th>\n",
              "      <th></th>\n",
              "      <th></th>\n",
              "      <th></th>\n",
              "      <th></th>\n",
              "      <th></th>\n",
              "      <th></th>\n",
              "      <th></th>\n",
              "      <th></th>\n",
              "      <th></th>\n",
              "      <th></th>\n",
              "      <th></th>\n",
              "    </tr>\n",
              "  </thead>\n",
              "  <tbody>\n",
              "    <tr>\n",
              "      <th>0.0</th>\n",
              "      <td>58176.720550</td>\n",
              "      <td>-0.185444</td>\n",
              "      <td>0.042135</td>\n",
              "      <td>0.569689</td>\n",
              "      <td>0.124499</td>\n",
              "      <td>-0.191311</td>\n",
              "      <td>0.067595</td>\n",
              "      <td>-0.076600</td>\n",
              "      <td>0.038895</td>\n",
              "      <td>0.027552</td>\n",
              "      <td>...</td>\n",
              "      <td>0.032755</td>\n",
              "      <td>-0.036009</td>\n",
              "      <td>-0.096154</td>\n",
              "      <td>-0.025342</td>\n",
              "      <td>0.010510</td>\n",
              "      <td>0.103689</td>\n",
              "      <td>0.014088</td>\n",
              "      <td>0.001871</td>\n",
              "      <td>0.002442</td>\n",
              "      <td>86.929438</td>\n",
              "    </tr>\n",
              "    <tr>\n",
              "      <th>1.0</th>\n",
              "      <td>55968.873596</td>\n",
              "      <td>-6.057284</td>\n",
              "      <td>4.419181</td>\n",
              "      <td>-8.006879</td>\n",
              "      <td>4.902106</td>\n",
              "      <td>-4.402531</td>\n",
              "      <td>-1.445960</td>\n",
              "      <td>-7.057336</td>\n",
              "      <td>0.778068</td>\n",
              "      <td>-2.884994</td>\n",
              "      <td>...</td>\n",
              "      <td>0.413879</td>\n",
              "      <td>0.767732</td>\n",
              "      <td>-0.017997</td>\n",
              "      <td>-0.045050</td>\n",
              "      <td>-0.073773</td>\n",
              "      <td>0.080805</td>\n",
              "      <td>0.036841</td>\n",
              "      <td>0.181541</td>\n",
              "      <td>0.044143</td>\n",
              "      <td>112.005000</td>\n",
              "    </tr>\n",
              "  </tbody>\n",
              "</table>\n",
              "<p>2 rows × 30 columns</p>\n",
              "</div>\n",
              "      <button class=\"colab-df-convert\" onclick=\"convertToInteractive('df-e400962a-0819-4e6e-a6ed-5f3c49889dd6')\"\n",
              "              title=\"Convert this dataframe to an interactive table.\"\n",
              "              style=\"display:none;\">\n",
              "        \n",
              "  <svg xmlns=\"http://www.w3.org/2000/svg\" height=\"24px\"viewBox=\"0 0 24 24\"\n",
              "       width=\"24px\">\n",
              "    <path d=\"M0 0h24v24H0V0z\" fill=\"none\"/>\n",
              "    <path d=\"M18.56 5.44l.94 2.06.94-2.06 2.06-.94-2.06-.94-.94-2.06-.94 2.06-2.06.94zm-11 1L8.5 8.5l.94-2.06 2.06-.94-2.06-.94L8.5 2.5l-.94 2.06-2.06.94zm10 10l.94 2.06.94-2.06 2.06-.94-2.06-.94-.94-2.06-.94 2.06-2.06.94z\"/><path d=\"M17.41 7.96l-1.37-1.37c-.4-.4-.92-.59-1.43-.59-.52 0-1.04.2-1.43.59L10.3 9.45l-7.72 7.72c-.78.78-.78 2.05 0 2.83L4 21.41c.39.39.9.59 1.41.59.51 0 1.02-.2 1.41-.59l7.78-7.78 2.81-2.81c.8-.78.8-2.07 0-2.86zM5.41 20L4 18.59l7.72-7.72 1.47 1.35L5.41 20z\"/>\n",
              "  </svg>\n",
              "      </button>\n",
              "      \n",
              "  <style>\n",
              "    .colab-df-container {\n",
              "      display:flex;\n",
              "      flex-wrap:wrap;\n",
              "      gap: 12px;\n",
              "    }\n",
              "\n",
              "    .colab-df-convert {\n",
              "      background-color: #E8F0FE;\n",
              "      border: none;\n",
              "      border-radius: 50%;\n",
              "      cursor: pointer;\n",
              "      display: none;\n",
              "      fill: #1967D2;\n",
              "      height: 32px;\n",
              "      padding: 0 0 0 0;\n",
              "      width: 32px;\n",
              "    }\n",
              "\n",
              "    .colab-df-convert:hover {\n",
              "      background-color: #E2EBFA;\n",
              "      box-shadow: 0px 1px 2px rgba(60, 64, 67, 0.3), 0px 1px 3px 1px rgba(60, 64, 67, 0.15);\n",
              "      fill: #174EA6;\n",
              "    }\n",
              "\n",
              "    [theme=dark] .colab-df-convert {\n",
              "      background-color: #3B4455;\n",
              "      fill: #D2E3FC;\n",
              "    }\n",
              "\n",
              "    [theme=dark] .colab-df-convert:hover {\n",
              "      background-color: #434B5C;\n",
              "      box-shadow: 0px 1px 3px 1px rgba(0, 0, 0, 0.15);\n",
              "      filter: drop-shadow(0px 1px 2px rgba(0, 0, 0, 0.3));\n",
              "      fill: #FFFFFF;\n",
              "    }\n",
              "  </style>\n",
              "\n",
              "      <script>\n",
              "        const buttonEl =\n",
              "          document.querySelector('#df-e400962a-0819-4e6e-a6ed-5f3c49889dd6 button.colab-df-convert');\n",
              "        buttonEl.style.display =\n",
              "          google.colab.kernel.accessAllowed ? 'block' : 'none';\n",
              "\n",
              "        async function convertToInteractive(key) {\n",
              "          const element = document.querySelector('#df-e400962a-0819-4e6e-a6ed-5f3c49889dd6');\n",
              "          const dataTable =\n",
              "            await google.colab.kernel.invokeFunction('convertToInteractive',\n",
              "                                                     [key], {});\n",
              "          if (!dataTable) return;\n",
              "\n",
              "          const docLinkHtml = 'Like what you see? Visit the ' +\n",
              "            '<a target=\"_blank\" href=https://colab.research.google.com/notebooks/data_table.ipynb>data table notebook</a>'\n",
              "            + ' to learn more about interactive tables.';\n",
              "          element.innerHTML = '';\n",
              "          dataTable['output_type'] = 'display_data';\n",
              "          await google.colab.output.renderOutput(dataTable, element);\n",
              "          const docLink = document.createElement('div');\n",
              "          docLink.innerHTML = docLinkHtml;\n",
              "          element.appendChild(docLink);\n",
              "        }\n",
              "      </script>\n",
              "    </div>\n",
              "  </div>\n",
              "  "
            ]
          },
          "metadata": {},
          "execution_count": 22
        }
      ]
    },
    {
      "cell_type": "markdown",
      "source": [
        "Under - Sampling\n"
      ],
      "metadata": {
        "id": "mfMcEBPVpwSu"
      }
    },
    {
      "cell_type": "markdown",
      "source": [
        "Build a sample dataset containing similar distribution of normal transactions and Fraudulant Transactions"
      ],
      "metadata": {
        "id": "PEXtj_bpp20i"
      }
    },
    {
      "cell_type": "markdown",
      "source": [
        "The Number of Fraudulant transactions: 356"
      ],
      "metadata": {
        "id": "Jcs53JS7qGFT"
      }
    },
    {
      "cell_type": "code",
      "source": [
        "legit_sample = legit.sample(n=356)"
      ],
      "metadata": {
        "id": "Ym9D7Iuyqah-"
      },
      "execution_count": 23,
      "outputs": []
    },
    {
      "cell_type": "markdown",
      "source": [
        "Concatenating two DataFrames"
      ],
      "metadata": {
        "id": "YabHZzvVqsq9"
      }
    },
    {
      "cell_type": "code",
      "source": [
        "new_dataset = pd.concat([legit_sample, fraud], axis=0)"
      ],
      "metadata": {
        "id": "pFiH3XL5qxZh"
      },
      "execution_count": 24,
      "outputs": []
    },
    {
      "cell_type": "code",
      "source": [
        "new_dataset.head()"
      ],
      "metadata": {
        "colab": {
          "base_uri": "https://localhost:8080/",
          "height": 300
        },
        "id": "qE0h01sVrDNl",
        "outputId": "cbe41905-8340-4b78-e27b-99996c2348bf"
      },
      "execution_count": 25,
      "outputs": [
        {
          "output_type": "execute_result",
          "data": {
            "text/plain": [
              "           Time        V1        V2        V3        V4        V5        V6  \\\n",
              "130752  79423.0  1.203280 -0.436962  0.871063 -0.769549 -1.072654 -0.368132   \n",
              "125517  77700.0  1.219388  0.560330 -0.475506  0.812431  0.006552 -1.267116   \n",
              "60175   49194.0  1.049940 -0.686612  1.270384  0.363346 -1.747551 -0.795298   \n",
              "144891  86467.0  2.127745  0.030464 -1.798252  0.047973  0.747801 -0.368642   \n",
              "77491   57074.0  1.139672 -0.325697  0.733771  0.435837 -0.261809  1.176973   \n",
              "\n",
              "              V7        V8        V9  ...       V21       V22       V23  \\\n",
              "130752 -0.687846  0.136735  1.901300  ...  0.008941  0.283483  0.000497   \n",
              "125517  0.264263 -0.144057 -0.334000  ... -0.096940 -0.293571 -0.062173   \n",
              "60175  -0.740351  0.116135  1.378808  ... -0.068193 -0.263105  0.094342   \n",
              "144891  0.246534 -0.294347  0.474778  ...  0.205625  0.778376 -0.074587   \n",
              "77491  -0.778320  0.406960  0.687069  ... -0.072854 -0.037631 -0.117777   \n",
              "\n",
              "             V24       V25       V26       V27       V28  Amount  Class  \n",
              "130752  0.082951  0.408657 -0.655035  0.106521  0.030699    1.00    0.0  \n",
              "125517  0.404417  0.489581  0.341182 -0.038846  0.033249    0.76    0.0  \n",
              "60175   0.950079 -0.057071  0.957140 -0.060247  0.028700   74.95    0.0  \n",
              "144891 -0.022843  0.416736 -0.092877 -0.016018 -0.057584    4.78    0.0  \n",
              "77491  -1.089209  0.313146  0.397682  0.026777  0.006174   28.75    0.0  \n",
              "\n",
              "[5 rows x 31 columns]"
            ],
            "text/html": [
              "\n",
              "  <div id=\"df-6e573eb8-edda-41f8-a57f-53dd00130a35\">\n",
              "    <div class=\"colab-df-container\">\n",
              "      <div>\n",
              "<style scoped>\n",
              "    .dataframe tbody tr th:only-of-type {\n",
              "        vertical-align: middle;\n",
              "    }\n",
              "\n",
              "    .dataframe tbody tr th {\n",
              "        vertical-align: top;\n",
              "    }\n",
              "\n",
              "    .dataframe thead th {\n",
              "        text-align: right;\n",
              "    }\n",
              "</style>\n",
              "<table border=\"1\" class=\"dataframe\">\n",
              "  <thead>\n",
              "    <tr style=\"text-align: right;\">\n",
              "      <th></th>\n",
              "      <th>Time</th>\n",
              "      <th>V1</th>\n",
              "      <th>V2</th>\n",
              "      <th>V3</th>\n",
              "      <th>V4</th>\n",
              "      <th>V5</th>\n",
              "      <th>V6</th>\n",
              "      <th>V7</th>\n",
              "      <th>V8</th>\n",
              "      <th>V9</th>\n",
              "      <th>...</th>\n",
              "      <th>V21</th>\n",
              "      <th>V22</th>\n",
              "      <th>V23</th>\n",
              "      <th>V24</th>\n",
              "      <th>V25</th>\n",
              "      <th>V26</th>\n",
              "      <th>V27</th>\n",
              "      <th>V28</th>\n",
              "      <th>Amount</th>\n",
              "      <th>Class</th>\n",
              "    </tr>\n",
              "  </thead>\n",
              "  <tbody>\n",
              "    <tr>\n",
              "      <th>130752</th>\n",
              "      <td>79423.0</td>\n",
              "      <td>1.203280</td>\n",
              "      <td>-0.436962</td>\n",
              "      <td>0.871063</td>\n",
              "      <td>-0.769549</td>\n",
              "      <td>-1.072654</td>\n",
              "      <td>-0.368132</td>\n",
              "      <td>-0.687846</td>\n",
              "      <td>0.136735</td>\n",
              "      <td>1.901300</td>\n",
              "      <td>...</td>\n",
              "      <td>0.008941</td>\n",
              "      <td>0.283483</td>\n",
              "      <td>0.000497</td>\n",
              "      <td>0.082951</td>\n",
              "      <td>0.408657</td>\n",
              "      <td>-0.655035</td>\n",
              "      <td>0.106521</td>\n",
              "      <td>0.030699</td>\n",
              "      <td>1.00</td>\n",
              "      <td>0.0</td>\n",
              "    </tr>\n",
              "    <tr>\n",
              "      <th>125517</th>\n",
              "      <td>77700.0</td>\n",
              "      <td>1.219388</td>\n",
              "      <td>0.560330</td>\n",
              "      <td>-0.475506</td>\n",
              "      <td>0.812431</td>\n",
              "      <td>0.006552</td>\n",
              "      <td>-1.267116</td>\n",
              "      <td>0.264263</td>\n",
              "      <td>-0.144057</td>\n",
              "      <td>-0.334000</td>\n",
              "      <td>...</td>\n",
              "      <td>-0.096940</td>\n",
              "      <td>-0.293571</td>\n",
              "      <td>-0.062173</td>\n",
              "      <td>0.404417</td>\n",
              "      <td>0.489581</td>\n",
              "      <td>0.341182</td>\n",
              "      <td>-0.038846</td>\n",
              "      <td>0.033249</td>\n",
              "      <td>0.76</td>\n",
              "      <td>0.0</td>\n",
              "    </tr>\n",
              "    <tr>\n",
              "      <th>60175</th>\n",
              "      <td>49194.0</td>\n",
              "      <td>1.049940</td>\n",
              "      <td>-0.686612</td>\n",
              "      <td>1.270384</td>\n",
              "      <td>0.363346</td>\n",
              "      <td>-1.747551</td>\n",
              "      <td>-0.795298</td>\n",
              "      <td>-0.740351</td>\n",
              "      <td>0.116135</td>\n",
              "      <td>1.378808</td>\n",
              "      <td>...</td>\n",
              "      <td>-0.068193</td>\n",
              "      <td>-0.263105</td>\n",
              "      <td>0.094342</td>\n",
              "      <td>0.950079</td>\n",
              "      <td>-0.057071</td>\n",
              "      <td>0.957140</td>\n",
              "      <td>-0.060247</td>\n",
              "      <td>0.028700</td>\n",
              "      <td>74.95</td>\n",
              "      <td>0.0</td>\n",
              "    </tr>\n",
              "    <tr>\n",
              "      <th>144891</th>\n",
              "      <td>86467.0</td>\n",
              "      <td>2.127745</td>\n",
              "      <td>0.030464</td>\n",
              "      <td>-1.798252</td>\n",
              "      <td>0.047973</td>\n",
              "      <td>0.747801</td>\n",
              "      <td>-0.368642</td>\n",
              "      <td>0.246534</td>\n",
              "      <td>-0.294347</td>\n",
              "      <td>0.474778</td>\n",
              "      <td>...</td>\n",
              "      <td>0.205625</td>\n",
              "      <td>0.778376</td>\n",
              "      <td>-0.074587</td>\n",
              "      <td>-0.022843</td>\n",
              "      <td>0.416736</td>\n",
              "      <td>-0.092877</td>\n",
              "      <td>-0.016018</td>\n",
              "      <td>-0.057584</td>\n",
              "      <td>4.78</td>\n",
              "      <td>0.0</td>\n",
              "    </tr>\n",
              "    <tr>\n",
              "      <th>77491</th>\n",
              "      <td>57074.0</td>\n",
              "      <td>1.139672</td>\n",
              "      <td>-0.325697</td>\n",
              "      <td>0.733771</td>\n",
              "      <td>0.435837</td>\n",
              "      <td>-0.261809</td>\n",
              "      <td>1.176973</td>\n",
              "      <td>-0.778320</td>\n",
              "      <td>0.406960</td>\n",
              "      <td>0.687069</td>\n",
              "      <td>...</td>\n",
              "      <td>-0.072854</td>\n",
              "      <td>-0.037631</td>\n",
              "      <td>-0.117777</td>\n",
              "      <td>-1.089209</td>\n",
              "      <td>0.313146</td>\n",
              "      <td>0.397682</td>\n",
              "      <td>0.026777</td>\n",
              "      <td>0.006174</td>\n",
              "      <td>28.75</td>\n",
              "      <td>0.0</td>\n",
              "    </tr>\n",
              "  </tbody>\n",
              "</table>\n",
              "<p>5 rows × 31 columns</p>\n",
              "</div>\n",
              "      <button class=\"colab-df-convert\" onclick=\"convertToInteractive('df-6e573eb8-edda-41f8-a57f-53dd00130a35')\"\n",
              "              title=\"Convert this dataframe to an interactive table.\"\n",
              "              style=\"display:none;\">\n",
              "        \n",
              "  <svg xmlns=\"http://www.w3.org/2000/svg\" height=\"24px\"viewBox=\"0 0 24 24\"\n",
              "       width=\"24px\">\n",
              "    <path d=\"M0 0h24v24H0V0z\" fill=\"none\"/>\n",
              "    <path d=\"M18.56 5.44l.94 2.06.94-2.06 2.06-.94-2.06-.94-.94-2.06-.94 2.06-2.06.94zm-11 1L8.5 8.5l.94-2.06 2.06-.94-2.06-.94L8.5 2.5l-.94 2.06-2.06.94zm10 10l.94 2.06.94-2.06 2.06-.94-2.06-.94-.94-2.06-.94 2.06-2.06.94z\"/><path d=\"M17.41 7.96l-1.37-1.37c-.4-.4-.92-.59-1.43-.59-.52 0-1.04.2-1.43.59L10.3 9.45l-7.72 7.72c-.78.78-.78 2.05 0 2.83L4 21.41c.39.39.9.59 1.41.59.51 0 1.02-.2 1.41-.59l7.78-7.78 2.81-2.81c.8-.78.8-2.07 0-2.86zM5.41 20L4 18.59l7.72-7.72 1.47 1.35L5.41 20z\"/>\n",
              "  </svg>\n",
              "      </button>\n",
              "      \n",
              "  <style>\n",
              "    .colab-df-container {\n",
              "      display:flex;\n",
              "      flex-wrap:wrap;\n",
              "      gap: 12px;\n",
              "    }\n",
              "\n",
              "    .colab-df-convert {\n",
              "      background-color: #E8F0FE;\n",
              "      border: none;\n",
              "      border-radius: 50%;\n",
              "      cursor: pointer;\n",
              "      display: none;\n",
              "      fill: #1967D2;\n",
              "      height: 32px;\n",
              "      padding: 0 0 0 0;\n",
              "      width: 32px;\n",
              "    }\n",
              "\n",
              "    .colab-df-convert:hover {\n",
              "      background-color: #E2EBFA;\n",
              "      box-shadow: 0px 1px 2px rgba(60, 64, 67, 0.3), 0px 1px 3px 1px rgba(60, 64, 67, 0.15);\n",
              "      fill: #174EA6;\n",
              "    }\n",
              "\n",
              "    [theme=dark] .colab-df-convert {\n",
              "      background-color: #3B4455;\n",
              "      fill: #D2E3FC;\n",
              "    }\n",
              "\n",
              "    [theme=dark] .colab-df-convert:hover {\n",
              "      background-color: #434B5C;\n",
              "      box-shadow: 0px 1px 3px 1px rgba(0, 0, 0, 0.15);\n",
              "      filter: drop-shadow(0px 1px 2px rgba(0, 0, 0, 0.3));\n",
              "      fill: #FFFFFF;\n",
              "    }\n",
              "  </style>\n",
              "\n",
              "      <script>\n",
              "        const buttonEl =\n",
              "          document.querySelector('#df-6e573eb8-edda-41f8-a57f-53dd00130a35 button.colab-df-convert');\n",
              "        buttonEl.style.display =\n",
              "          google.colab.kernel.accessAllowed ? 'block' : 'none';\n",
              "\n",
              "        async function convertToInteractive(key) {\n",
              "          const element = document.querySelector('#df-6e573eb8-edda-41f8-a57f-53dd00130a35');\n",
              "          const dataTable =\n",
              "            await google.colab.kernel.invokeFunction('convertToInteractive',\n",
              "                                                     [key], {});\n",
              "          if (!dataTable) return;\n",
              "\n",
              "          const docLinkHtml = 'Like what you see? Visit the ' +\n",
              "            '<a target=\"_blank\" href=https://colab.research.google.com/notebooks/data_table.ipynb>data table notebook</a>'\n",
              "            + ' to learn more about interactive tables.';\n",
              "          element.innerHTML = '';\n",
              "          dataTable['output_type'] = 'display_data';\n",
              "          await google.colab.output.renderOutput(dataTable, element);\n",
              "          const docLink = document.createElement('div');\n",
              "          docLink.innerHTML = docLinkHtml;\n",
              "          element.appendChild(docLink);\n",
              "        }\n",
              "      </script>\n",
              "    </div>\n",
              "  </div>\n",
              "  "
            ]
          },
          "metadata": {},
          "execution_count": 25
        }
      ]
    },
    {
      "cell_type": "code",
      "source": [
        "new_dataset.tail()"
      ],
      "metadata": {
        "colab": {
          "base_uri": "https://localhost:8080/",
          "height": 300
        },
        "id": "UpNL2Lq8rHRv",
        "outputId": "5647568e-cf06-4d45-b270-b9da408a3654"
      },
      "execution_count": 26,
      "outputs": [
        {
          "output_type": "execute_result",
          "data": {
            "text/plain": [
              "            Time        V1        V2        V3        V4        V5        V6  \\\n",
              "156990  109298.0 -1.000611  3.346850 -5.534491  6.835802 -0.299803  0.095951   \n",
              "157585  110087.0  1.934946  0.650678 -0.286957  3.987828  0.316052 -0.099449   \n",
              "157868  110547.0 -1.532810  2.232752 -5.923100  3.386708 -0.153443 -1.419748   \n",
              "157871  110552.0 -2.450367  2.107729 -5.140663  1.411304 -1.690780 -0.736427   \n",
              "157918  110617.0 -1.101035 -1.674928 -0.573388  5.617556  0.765556  0.440607   \n",
              "\n",
              "              V7        V8        V9  ...       V21       V22       V23  \\\n",
              "156990 -2.440419  1.286301 -2.766438  ...  0.439757 -0.694099  0.299660   \n",
              "157585 -0.021483 -0.172327  0.508730  ... -0.173602 -0.190974  0.219976   \n",
              "157868 -3.878576  1.444656 -1.465542  ...  0.632505 -0.070838 -0.490291   \n",
              "157871 -3.657946  1.944906 -0.788388  ...  0.800538  0.364617  0.233608   \n",
              "157918  1.934740 -1.019788 -0.193244  ... -0.412526 -0.208823  0.344833   \n",
              "\n",
              "             V24       V25       V26       V27       V28  Amount  Class  \n",
              "156990 -0.657601  0.101648  0.430457  0.824685  0.326952  186.13    1.0  \n",
              "157585 -0.216597 -0.136692 -0.129954 -0.050077 -0.051082    1.00    1.0  \n",
              "157868 -0.359983  0.050678  1.095671  0.471741 -0.106667    0.76    1.0  \n",
              "157871 -0.282078 -0.320311  0.492920  0.359976 -0.115471   80.22    1.0  \n",
              "157918  1.091435 -0.686513  0.075809  0.033865 -0.832855  635.10    1.0  \n",
              "\n",
              "[5 rows x 31 columns]"
            ],
            "text/html": [
              "\n",
              "  <div id=\"df-e0b2c078-7de7-4010-9d9c-291c2eb15107\">\n",
              "    <div class=\"colab-df-container\">\n",
              "      <div>\n",
              "<style scoped>\n",
              "    .dataframe tbody tr th:only-of-type {\n",
              "        vertical-align: middle;\n",
              "    }\n",
              "\n",
              "    .dataframe tbody tr th {\n",
              "        vertical-align: top;\n",
              "    }\n",
              "\n",
              "    .dataframe thead th {\n",
              "        text-align: right;\n",
              "    }\n",
              "</style>\n",
              "<table border=\"1\" class=\"dataframe\">\n",
              "  <thead>\n",
              "    <tr style=\"text-align: right;\">\n",
              "      <th></th>\n",
              "      <th>Time</th>\n",
              "      <th>V1</th>\n",
              "      <th>V2</th>\n",
              "      <th>V3</th>\n",
              "      <th>V4</th>\n",
              "      <th>V5</th>\n",
              "      <th>V6</th>\n",
              "      <th>V7</th>\n",
              "      <th>V8</th>\n",
              "      <th>V9</th>\n",
              "      <th>...</th>\n",
              "      <th>V21</th>\n",
              "      <th>V22</th>\n",
              "      <th>V23</th>\n",
              "      <th>V24</th>\n",
              "      <th>V25</th>\n",
              "      <th>V26</th>\n",
              "      <th>V27</th>\n",
              "      <th>V28</th>\n",
              "      <th>Amount</th>\n",
              "      <th>Class</th>\n",
              "    </tr>\n",
              "  </thead>\n",
              "  <tbody>\n",
              "    <tr>\n",
              "      <th>156990</th>\n",
              "      <td>109298.0</td>\n",
              "      <td>-1.000611</td>\n",
              "      <td>3.346850</td>\n",
              "      <td>-5.534491</td>\n",
              "      <td>6.835802</td>\n",
              "      <td>-0.299803</td>\n",
              "      <td>0.095951</td>\n",
              "      <td>-2.440419</td>\n",
              "      <td>1.286301</td>\n",
              "      <td>-2.766438</td>\n",
              "      <td>...</td>\n",
              "      <td>0.439757</td>\n",
              "      <td>-0.694099</td>\n",
              "      <td>0.299660</td>\n",
              "      <td>-0.657601</td>\n",
              "      <td>0.101648</td>\n",
              "      <td>0.430457</td>\n",
              "      <td>0.824685</td>\n",
              "      <td>0.326952</td>\n",
              "      <td>186.13</td>\n",
              "      <td>1.0</td>\n",
              "    </tr>\n",
              "    <tr>\n",
              "      <th>157585</th>\n",
              "      <td>110087.0</td>\n",
              "      <td>1.934946</td>\n",
              "      <td>0.650678</td>\n",
              "      <td>-0.286957</td>\n",
              "      <td>3.987828</td>\n",
              "      <td>0.316052</td>\n",
              "      <td>-0.099449</td>\n",
              "      <td>-0.021483</td>\n",
              "      <td>-0.172327</td>\n",
              "      <td>0.508730</td>\n",
              "      <td>...</td>\n",
              "      <td>-0.173602</td>\n",
              "      <td>-0.190974</td>\n",
              "      <td>0.219976</td>\n",
              "      <td>-0.216597</td>\n",
              "      <td>-0.136692</td>\n",
              "      <td>-0.129954</td>\n",
              "      <td>-0.050077</td>\n",
              "      <td>-0.051082</td>\n",
              "      <td>1.00</td>\n",
              "      <td>1.0</td>\n",
              "    </tr>\n",
              "    <tr>\n",
              "      <th>157868</th>\n",
              "      <td>110547.0</td>\n",
              "      <td>-1.532810</td>\n",
              "      <td>2.232752</td>\n",
              "      <td>-5.923100</td>\n",
              "      <td>3.386708</td>\n",
              "      <td>-0.153443</td>\n",
              "      <td>-1.419748</td>\n",
              "      <td>-3.878576</td>\n",
              "      <td>1.444656</td>\n",
              "      <td>-1.465542</td>\n",
              "      <td>...</td>\n",
              "      <td>0.632505</td>\n",
              "      <td>-0.070838</td>\n",
              "      <td>-0.490291</td>\n",
              "      <td>-0.359983</td>\n",
              "      <td>0.050678</td>\n",
              "      <td>1.095671</td>\n",
              "      <td>0.471741</td>\n",
              "      <td>-0.106667</td>\n",
              "      <td>0.76</td>\n",
              "      <td>1.0</td>\n",
              "    </tr>\n",
              "    <tr>\n",
              "      <th>157871</th>\n",
              "      <td>110552.0</td>\n",
              "      <td>-2.450367</td>\n",
              "      <td>2.107729</td>\n",
              "      <td>-5.140663</td>\n",
              "      <td>1.411304</td>\n",
              "      <td>-1.690780</td>\n",
              "      <td>-0.736427</td>\n",
              "      <td>-3.657946</td>\n",
              "      <td>1.944906</td>\n",
              "      <td>-0.788388</td>\n",
              "      <td>...</td>\n",
              "      <td>0.800538</td>\n",
              "      <td>0.364617</td>\n",
              "      <td>0.233608</td>\n",
              "      <td>-0.282078</td>\n",
              "      <td>-0.320311</td>\n",
              "      <td>0.492920</td>\n",
              "      <td>0.359976</td>\n",
              "      <td>-0.115471</td>\n",
              "      <td>80.22</td>\n",
              "      <td>1.0</td>\n",
              "    </tr>\n",
              "    <tr>\n",
              "      <th>157918</th>\n",
              "      <td>110617.0</td>\n",
              "      <td>-1.101035</td>\n",
              "      <td>-1.674928</td>\n",
              "      <td>-0.573388</td>\n",
              "      <td>5.617556</td>\n",
              "      <td>0.765556</td>\n",
              "      <td>0.440607</td>\n",
              "      <td>1.934740</td>\n",
              "      <td>-1.019788</td>\n",
              "      <td>-0.193244</td>\n",
              "      <td>...</td>\n",
              "      <td>-0.412526</td>\n",
              "      <td>-0.208823</td>\n",
              "      <td>0.344833</td>\n",
              "      <td>1.091435</td>\n",
              "      <td>-0.686513</td>\n",
              "      <td>0.075809</td>\n",
              "      <td>0.033865</td>\n",
              "      <td>-0.832855</td>\n",
              "      <td>635.10</td>\n",
              "      <td>1.0</td>\n",
              "    </tr>\n",
              "  </tbody>\n",
              "</table>\n",
              "<p>5 rows × 31 columns</p>\n",
              "</div>\n",
              "      <button class=\"colab-df-convert\" onclick=\"convertToInteractive('df-e0b2c078-7de7-4010-9d9c-291c2eb15107')\"\n",
              "              title=\"Convert this dataframe to an interactive table.\"\n",
              "              style=\"display:none;\">\n",
              "        \n",
              "  <svg xmlns=\"http://www.w3.org/2000/svg\" height=\"24px\"viewBox=\"0 0 24 24\"\n",
              "       width=\"24px\">\n",
              "    <path d=\"M0 0h24v24H0V0z\" fill=\"none\"/>\n",
              "    <path d=\"M18.56 5.44l.94 2.06.94-2.06 2.06-.94-2.06-.94-.94-2.06-.94 2.06-2.06.94zm-11 1L8.5 8.5l.94-2.06 2.06-.94-2.06-.94L8.5 2.5l-.94 2.06-2.06.94zm10 10l.94 2.06.94-2.06 2.06-.94-2.06-.94-.94-2.06-.94 2.06-2.06.94z\"/><path d=\"M17.41 7.96l-1.37-1.37c-.4-.4-.92-.59-1.43-.59-.52 0-1.04.2-1.43.59L10.3 9.45l-7.72 7.72c-.78.78-.78 2.05 0 2.83L4 21.41c.39.39.9.59 1.41.59.51 0 1.02-.2 1.41-.59l7.78-7.78 2.81-2.81c.8-.78.8-2.07 0-2.86zM5.41 20L4 18.59l7.72-7.72 1.47 1.35L5.41 20z\"/>\n",
              "  </svg>\n",
              "      </button>\n",
              "      \n",
              "  <style>\n",
              "    .colab-df-container {\n",
              "      display:flex;\n",
              "      flex-wrap:wrap;\n",
              "      gap: 12px;\n",
              "    }\n",
              "\n",
              "    .colab-df-convert {\n",
              "      background-color: #E8F0FE;\n",
              "      border: none;\n",
              "      border-radius: 50%;\n",
              "      cursor: pointer;\n",
              "      display: none;\n",
              "      fill: #1967D2;\n",
              "      height: 32px;\n",
              "      padding: 0 0 0 0;\n",
              "      width: 32px;\n",
              "    }\n",
              "\n",
              "    .colab-df-convert:hover {\n",
              "      background-color: #E2EBFA;\n",
              "      box-shadow: 0px 1px 2px rgba(60, 64, 67, 0.3), 0px 1px 3px 1px rgba(60, 64, 67, 0.15);\n",
              "      fill: #174EA6;\n",
              "    }\n",
              "\n",
              "    [theme=dark] .colab-df-convert {\n",
              "      background-color: #3B4455;\n",
              "      fill: #D2E3FC;\n",
              "    }\n",
              "\n",
              "    [theme=dark] .colab-df-convert:hover {\n",
              "      background-color: #434B5C;\n",
              "      box-shadow: 0px 1px 3px 1px rgba(0, 0, 0, 0.15);\n",
              "      filter: drop-shadow(0px 1px 2px rgba(0, 0, 0, 0.3));\n",
              "      fill: #FFFFFF;\n",
              "    }\n",
              "  </style>\n",
              "\n",
              "      <script>\n",
              "        const buttonEl =\n",
              "          document.querySelector('#df-e0b2c078-7de7-4010-9d9c-291c2eb15107 button.colab-df-convert');\n",
              "        buttonEl.style.display =\n",
              "          google.colab.kernel.accessAllowed ? 'block' : 'none';\n",
              "\n",
              "        async function convertToInteractive(key) {\n",
              "          const element = document.querySelector('#df-e0b2c078-7de7-4010-9d9c-291c2eb15107');\n",
              "          const dataTable =\n",
              "            await google.colab.kernel.invokeFunction('convertToInteractive',\n",
              "                                                     [key], {});\n",
              "          if (!dataTable) return;\n",
              "\n",
              "          const docLinkHtml = 'Like what you see? Visit the ' +\n",
              "            '<a target=\"_blank\" href=https://colab.research.google.com/notebooks/data_table.ipynb>data table notebook</a>'\n",
              "            + ' to learn more about interactive tables.';\n",
              "          element.innerHTML = '';\n",
              "          dataTable['output_type'] = 'display_data';\n",
              "          await google.colab.output.renderOutput(dataTable, element);\n",
              "          const docLink = document.createElement('div');\n",
              "          docLink.innerHTML = docLinkHtml;\n",
              "          element.appendChild(docLink);\n",
              "        }\n",
              "      </script>\n",
              "    </div>\n",
              "  </div>\n",
              "  "
            ]
          },
          "metadata": {},
          "execution_count": 26
        }
      ]
    },
    {
      "cell_type": "code",
      "source": [
        "print(new_dataset.shape)"
      ],
      "metadata": {
        "colab": {
          "base_uri": "https://localhost:8080/"
        },
        "id": "vaZmYwOfsMY0",
        "outputId": "e8903d9c-6652-43c0-e60a-ba7c93480bb4"
      },
      "execution_count": 27,
      "outputs": [
        {
          "output_type": "stream",
          "name": "stdout",
          "text": [
            "(712, 31)\n"
          ]
        }
      ]
    },
    {
      "cell_type": "code",
      "source": [
        "new_dataset['Class'].value_counts()"
      ],
      "metadata": {
        "colab": {
          "base_uri": "https://localhost:8080/"
        },
        "id": "XbFDmQEMsZv3",
        "outputId": "85dabf87-05f4-4b7b-bb98-4dec0710236c"
      },
      "execution_count": 28,
      "outputs": [
        {
          "output_type": "execute_result",
          "data": {
            "text/plain": [
              "0.0    356\n",
              "1.0    356\n",
              "Name: Class, dtype: int64"
            ]
          },
          "metadata": {},
          "execution_count": 28
        }
      ]
    },
    {
      "cell_type": "code",
      "source": [
        "# compare the values for both transactions\n",
        "new_dataset.groupby('Class').mean()"
      ],
      "metadata": {
        "colab": {
          "base_uri": "https://localhost:8080/",
          "height": 237
        },
        "id": "vDkotHSmshKu",
        "outputId": "d87ff65e-bf0a-403a-e909-cf32c92e3626"
      },
      "execution_count": 29,
      "outputs": [
        {
          "output_type": "execute_result",
          "data": {
            "text/plain": [
              "               Time        V1        V2        V3        V4        V5  \\\n",
              "Class                                                                   \n",
              "0.0    58776.292135 -0.192000 -0.067311  0.583031  0.271871 -0.118460   \n",
              "1.0    55968.873596 -6.057284  4.419181 -8.006879  4.902106 -4.402531   \n",
              "\n",
              "             V6        V7        V8        V9  ...       V20       V21  \\\n",
              "Class                                          ...                       \n",
              "0.0    0.083658 -0.071718  0.078028  0.070490  ... -0.082698 -0.021050   \n",
              "1.0   -1.445960 -7.057336  0.778068 -2.884994  ...  0.413879  0.767732   \n",
              "\n",
              "            V22       V23       V24       V25       V26       V27       V28  \\\n",
              "Class                                                                         \n",
              "0.0   -0.072292  0.011953 -0.013225  0.130389  0.020834 -0.030605  0.072030   \n",
              "1.0   -0.017997 -0.045050 -0.073773  0.080805  0.036841  0.181541  0.044143   \n",
              "\n",
              "           Amount  \n",
              "Class              \n",
              "0.0     74.292556  \n",
              "1.0    112.005000  \n",
              "\n",
              "[2 rows x 30 columns]"
            ],
            "text/html": [
              "\n",
              "  <div id=\"df-0e3dd5e8-4998-423b-a08a-c848f22c5a72\">\n",
              "    <div class=\"colab-df-container\">\n",
              "      <div>\n",
              "<style scoped>\n",
              "    .dataframe tbody tr th:only-of-type {\n",
              "        vertical-align: middle;\n",
              "    }\n",
              "\n",
              "    .dataframe tbody tr th {\n",
              "        vertical-align: top;\n",
              "    }\n",
              "\n",
              "    .dataframe thead th {\n",
              "        text-align: right;\n",
              "    }\n",
              "</style>\n",
              "<table border=\"1\" class=\"dataframe\">\n",
              "  <thead>\n",
              "    <tr style=\"text-align: right;\">\n",
              "      <th></th>\n",
              "      <th>Time</th>\n",
              "      <th>V1</th>\n",
              "      <th>V2</th>\n",
              "      <th>V3</th>\n",
              "      <th>V4</th>\n",
              "      <th>V5</th>\n",
              "      <th>V6</th>\n",
              "      <th>V7</th>\n",
              "      <th>V8</th>\n",
              "      <th>V9</th>\n",
              "      <th>...</th>\n",
              "      <th>V20</th>\n",
              "      <th>V21</th>\n",
              "      <th>V22</th>\n",
              "      <th>V23</th>\n",
              "      <th>V24</th>\n",
              "      <th>V25</th>\n",
              "      <th>V26</th>\n",
              "      <th>V27</th>\n",
              "      <th>V28</th>\n",
              "      <th>Amount</th>\n",
              "    </tr>\n",
              "    <tr>\n",
              "      <th>Class</th>\n",
              "      <th></th>\n",
              "      <th></th>\n",
              "      <th></th>\n",
              "      <th></th>\n",
              "      <th></th>\n",
              "      <th></th>\n",
              "      <th></th>\n",
              "      <th></th>\n",
              "      <th></th>\n",
              "      <th></th>\n",
              "      <th></th>\n",
              "      <th></th>\n",
              "      <th></th>\n",
              "      <th></th>\n",
              "      <th></th>\n",
              "      <th></th>\n",
              "      <th></th>\n",
              "      <th></th>\n",
              "      <th></th>\n",
              "      <th></th>\n",
              "      <th></th>\n",
              "    </tr>\n",
              "  </thead>\n",
              "  <tbody>\n",
              "    <tr>\n",
              "      <th>0.0</th>\n",
              "      <td>58776.292135</td>\n",
              "      <td>-0.192000</td>\n",
              "      <td>-0.067311</td>\n",
              "      <td>0.583031</td>\n",
              "      <td>0.271871</td>\n",
              "      <td>-0.118460</td>\n",
              "      <td>0.083658</td>\n",
              "      <td>-0.071718</td>\n",
              "      <td>0.078028</td>\n",
              "      <td>0.070490</td>\n",
              "      <td>...</td>\n",
              "      <td>-0.082698</td>\n",
              "      <td>-0.021050</td>\n",
              "      <td>-0.072292</td>\n",
              "      <td>0.011953</td>\n",
              "      <td>-0.013225</td>\n",
              "      <td>0.130389</td>\n",
              "      <td>0.020834</td>\n",
              "      <td>-0.030605</td>\n",
              "      <td>0.072030</td>\n",
              "      <td>74.292556</td>\n",
              "    </tr>\n",
              "    <tr>\n",
              "      <th>1.0</th>\n",
              "      <td>55968.873596</td>\n",
              "      <td>-6.057284</td>\n",
              "      <td>4.419181</td>\n",
              "      <td>-8.006879</td>\n",
              "      <td>4.902106</td>\n",
              "      <td>-4.402531</td>\n",
              "      <td>-1.445960</td>\n",
              "      <td>-7.057336</td>\n",
              "      <td>0.778068</td>\n",
              "      <td>-2.884994</td>\n",
              "      <td>...</td>\n",
              "      <td>0.413879</td>\n",
              "      <td>0.767732</td>\n",
              "      <td>-0.017997</td>\n",
              "      <td>-0.045050</td>\n",
              "      <td>-0.073773</td>\n",
              "      <td>0.080805</td>\n",
              "      <td>0.036841</td>\n",
              "      <td>0.181541</td>\n",
              "      <td>0.044143</td>\n",
              "      <td>112.005000</td>\n",
              "    </tr>\n",
              "  </tbody>\n",
              "</table>\n",
              "<p>2 rows × 30 columns</p>\n",
              "</div>\n",
              "      <button class=\"colab-df-convert\" onclick=\"convertToInteractive('df-0e3dd5e8-4998-423b-a08a-c848f22c5a72')\"\n",
              "              title=\"Convert this dataframe to an interactive table.\"\n",
              "              style=\"display:none;\">\n",
              "        \n",
              "  <svg xmlns=\"http://www.w3.org/2000/svg\" height=\"24px\"viewBox=\"0 0 24 24\"\n",
              "       width=\"24px\">\n",
              "    <path d=\"M0 0h24v24H0V0z\" fill=\"none\"/>\n",
              "    <path d=\"M18.56 5.44l.94 2.06.94-2.06 2.06-.94-2.06-.94-.94-2.06-.94 2.06-2.06.94zm-11 1L8.5 8.5l.94-2.06 2.06-.94-2.06-.94L8.5 2.5l-.94 2.06-2.06.94zm10 10l.94 2.06.94-2.06 2.06-.94-2.06-.94-.94-2.06-.94 2.06-2.06.94z\"/><path d=\"M17.41 7.96l-1.37-1.37c-.4-.4-.92-.59-1.43-.59-.52 0-1.04.2-1.43.59L10.3 9.45l-7.72 7.72c-.78.78-.78 2.05 0 2.83L4 21.41c.39.39.9.59 1.41.59.51 0 1.02-.2 1.41-.59l7.78-7.78 2.81-2.81c.8-.78.8-2.07 0-2.86zM5.41 20L4 18.59l7.72-7.72 1.47 1.35L5.41 20z\"/>\n",
              "  </svg>\n",
              "      </button>\n",
              "      \n",
              "  <style>\n",
              "    .colab-df-container {\n",
              "      display:flex;\n",
              "      flex-wrap:wrap;\n",
              "      gap: 12px;\n",
              "    }\n",
              "\n",
              "    .colab-df-convert {\n",
              "      background-color: #E8F0FE;\n",
              "      border: none;\n",
              "      border-radius: 50%;\n",
              "      cursor: pointer;\n",
              "      display: none;\n",
              "      fill: #1967D2;\n",
              "      height: 32px;\n",
              "      padding: 0 0 0 0;\n",
              "      width: 32px;\n",
              "    }\n",
              "\n",
              "    .colab-df-convert:hover {\n",
              "      background-color: #E2EBFA;\n",
              "      box-shadow: 0px 1px 2px rgba(60, 64, 67, 0.3), 0px 1px 3px 1px rgba(60, 64, 67, 0.15);\n",
              "      fill: #174EA6;\n",
              "    }\n",
              "\n",
              "    [theme=dark] .colab-df-convert {\n",
              "      background-color: #3B4455;\n",
              "      fill: #D2E3FC;\n",
              "    }\n",
              "\n",
              "    [theme=dark] .colab-df-convert:hover {\n",
              "      background-color: #434B5C;\n",
              "      box-shadow: 0px 1px 3px 1px rgba(0, 0, 0, 0.15);\n",
              "      filter: drop-shadow(0px 1px 2px rgba(0, 0, 0, 0.3));\n",
              "      fill: #FFFFFF;\n",
              "    }\n",
              "  </style>\n",
              "\n",
              "      <script>\n",
              "        const buttonEl =\n",
              "          document.querySelector('#df-0e3dd5e8-4998-423b-a08a-c848f22c5a72 button.colab-df-convert');\n",
              "        buttonEl.style.display =\n",
              "          google.colab.kernel.accessAllowed ? 'block' : 'none';\n",
              "\n",
              "        async function convertToInteractive(key) {\n",
              "          const element = document.querySelector('#df-0e3dd5e8-4998-423b-a08a-c848f22c5a72');\n",
              "          const dataTable =\n",
              "            await google.colab.kernel.invokeFunction('convertToInteractive',\n",
              "                                                     [key], {});\n",
              "          if (!dataTable) return;\n",
              "\n",
              "          const docLinkHtml = 'Like what you see? Visit the ' +\n",
              "            '<a target=\"_blank\" href=https://colab.research.google.com/notebooks/data_table.ipynb>data table notebook</a>'\n",
              "            + ' to learn more about interactive tables.';\n",
              "          element.innerHTML = '';\n",
              "          dataTable['output_type'] = 'display_data';\n",
              "          await google.colab.output.renderOutput(dataTable, element);\n",
              "          const docLink = document.createElement('div');\n",
              "          docLink.innerHTML = docLinkHtml;\n",
              "          element.appendChild(docLink);\n",
              "        }\n",
              "      </script>\n",
              "    </div>\n",
              "  </div>\n",
              "  "
            ]
          },
          "metadata": {},
          "execution_count": 29
        }
      ]
    },
    {
      "cell_type": "markdown",
      "source": [
        "Splitting the data into Features & Targets"
      ],
      "metadata": {
        "id": "I7g6S5lYtH8h"
      }
    },
    {
      "cell_type": "code",
      "source": [
        "X = new_dataset.drop(columns='Class', axis=1)\n",
        "Y = new_dataset['Class']"
      ],
      "metadata": {
        "id": "ylevXHortNFp"
      },
      "execution_count": 30,
      "outputs": []
    },
    {
      "cell_type": "code",
      "source": [
        "print(X)"
      ],
      "metadata": {
        "colab": {
          "base_uri": "https://localhost:8080/"
        },
        "id": "m1M3icS9taJ7",
        "outputId": "7e6836c2-5e2e-4b71-9d29-d621bcfcba7f"
      },
      "execution_count": 31,
      "outputs": [
        {
          "output_type": "stream",
          "name": "stdout",
          "text": [
            "            Time        V1        V2        V3        V4        V5        V6  \\\n",
            "130752   79423.0  1.203280 -0.436962  0.871063 -0.769549 -1.072654 -0.368132   \n",
            "125517   77700.0  1.219388  0.560330 -0.475506  0.812431  0.006552 -1.267116   \n",
            "60175    49194.0  1.049940 -0.686612  1.270384  0.363346 -1.747551 -0.795298   \n",
            "144891   86467.0  2.127745  0.030464 -1.798252  0.047973  0.747801 -0.368642   \n",
            "77491    57074.0  1.139672 -0.325697  0.733771  0.435837 -0.261809  1.176973   \n",
            "...          ...       ...       ...       ...       ...       ...       ...   \n",
            "156990  109298.0 -1.000611  3.346850 -5.534491  6.835802 -0.299803  0.095951   \n",
            "157585  110087.0  1.934946  0.650678 -0.286957  3.987828  0.316052 -0.099449   \n",
            "157868  110547.0 -1.532810  2.232752 -5.923100  3.386708 -0.153443 -1.419748   \n",
            "157871  110552.0 -2.450367  2.107729 -5.140663  1.411304 -1.690780 -0.736427   \n",
            "157918  110617.0 -1.101035 -1.674928 -0.573388  5.617556  0.765556  0.440607   \n",
            "\n",
            "              V7        V8        V9  ...       V20       V21       V22  \\\n",
            "130752 -0.687846  0.136735  1.901300  ... -0.192901  0.008941  0.283483   \n",
            "125517  0.264263 -0.144057 -0.334000  ... -0.110975 -0.096940 -0.293571   \n",
            "60175  -0.740351  0.116135  1.378808  ... -0.086085 -0.068193 -0.263105   \n",
            "144891  0.246534 -0.294347  0.474778  ... -0.119112  0.205625  0.778376   \n",
            "77491  -0.778320  0.406960  0.687069  ... -0.018373 -0.072854 -0.037631   \n",
            "...          ...       ...       ...  ...       ...       ...       ...   \n",
            "156990 -2.440419  1.286301 -2.766438  ...  1.189814  0.439757 -0.694099   \n",
            "157585 -0.021483 -0.172327  0.508730  ... -0.344452 -0.173602 -0.190974   \n",
            "157868 -3.878576  1.444656 -1.465542  ...  0.520840  0.632505 -0.070838   \n",
            "157871 -3.657946  1.944906 -0.788388  ... -0.130438  0.800538  0.364617   \n",
            "157918  1.934740 -1.019788 -0.193244  ... -0.038314 -0.412526 -0.208823   \n",
            "\n",
            "             V23       V24       V25       V26       V27       V28  Amount  \n",
            "130752  0.000497  0.082951  0.408657 -0.655035  0.106521  0.030699    1.00  \n",
            "125517 -0.062173  0.404417  0.489581  0.341182 -0.038846  0.033249    0.76  \n",
            "60175   0.094342  0.950079 -0.057071  0.957140 -0.060247  0.028700   74.95  \n",
            "144891 -0.074587 -0.022843  0.416736 -0.092877 -0.016018 -0.057584    4.78  \n",
            "77491  -0.117777 -1.089209  0.313146  0.397682  0.026777  0.006174   28.75  \n",
            "...          ...       ...       ...       ...       ...       ...     ...  \n",
            "156990  0.299660 -0.657601  0.101648  0.430457  0.824685  0.326952  186.13  \n",
            "157585  0.219976 -0.216597 -0.136692 -0.129954 -0.050077 -0.051082    1.00  \n",
            "157868 -0.490291 -0.359983  0.050678  1.095671  0.471741 -0.106667    0.76  \n",
            "157871  0.233608 -0.282078 -0.320311  0.492920  0.359976 -0.115471   80.22  \n",
            "157918  0.344833  1.091435 -0.686513  0.075809  0.033865 -0.832855  635.10  \n",
            "\n",
            "[712 rows x 30 columns]\n"
          ]
        }
      ]
    },
    {
      "cell_type": "code",
      "source": [
        "print(Y)"
      ],
      "metadata": {
        "colab": {
          "base_uri": "https://localhost:8080/"
        },
        "id": "eV4Fl6Jwteqv",
        "outputId": "0ea0ddf7-5e17-4e64-9e37-f742b2f838d9"
      },
      "execution_count": 32,
      "outputs": [
        {
          "output_type": "stream",
          "name": "stdout",
          "text": [
            "130752    0.0\n",
            "125517    0.0\n",
            "60175     0.0\n",
            "144891    0.0\n",
            "77491     0.0\n",
            "         ... \n",
            "156990    1.0\n",
            "157585    1.0\n",
            "157868    1.0\n",
            "157871    1.0\n",
            "157918    1.0\n",
            "Name: Class, Length: 712, dtype: float64\n"
          ]
        }
      ]
    },
    {
      "cell_type": "markdown",
      "source": [
        "Split the data into training data & testing data"
      ],
      "metadata": {
        "id": "oohn5y7itpnM"
      }
    },
    {
      "cell_type": "code",
      "source": [
        "X_train, X_test, Y_train, Y_test = train_test_split(X, Y, test_size=0.2, stratify=Y, random_state=2)"
      ],
      "metadata": {
        "id": "P_VCZ2MStuGd"
      },
      "execution_count": 33,
      "outputs": []
    },
    {
      "cell_type": "code",
      "source": [
        "print(X.shape, X_train.shape, X_test.shape)"
      ],
      "metadata": {
        "colab": {
          "base_uri": "https://localhost:8080/"
        },
        "id": "WfVf_xXCvryh",
        "outputId": "5088ed97-3a6e-453b-88f8-fd2f886ca2c1"
      },
      "execution_count": 34,
      "outputs": [
        {
          "output_type": "stream",
          "name": "stdout",
          "text": [
            "(712, 30) (569, 30) (143, 30)\n"
          ]
        }
      ]
    },
    {
      "cell_type": "markdown",
      "source": [
        "Model Training"
      ],
      "metadata": {
        "id": "otv07A4jwCKA"
      }
    },
    {
      "cell_type": "code",
      "source": [
        "model = LogisticRegression()"
      ],
      "metadata": {
        "id": "afN2u1pbwFyf"
      },
      "execution_count": 35,
      "outputs": []
    },
    {
      "cell_type": "code",
      "source": [
        "# training the Logistic Regression Model with Training Data\n",
        "model.fit(X_train, Y_train)"
      ],
      "metadata": {
        "colab": {
          "base_uri": "https://localhost:8080/",
          "height": 214
        },
        "id": "jCFWsumtwJgg",
        "outputId": "b3ec2315-0400-418b-86f4-e38d59b9c9ff"
      },
      "execution_count": 36,
      "outputs": [
        {
          "output_type": "stream",
          "name": "stderr",
          "text": [
            "/usr/local/lib/python3.10/dist-packages/sklearn/linear_model/_logistic.py:458: ConvergenceWarning: lbfgs failed to converge (status=1):\n",
            "STOP: TOTAL NO. of ITERATIONS REACHED LIMIT.\n",
            "\n",
            "Increase the number of iterations (max_iter) or scale the data as shown in:\n",
            "    https://scikit-learn.org/stable/modules/preprocessing.html\n",
            "Please also refer to the documentation for alternative solver options:\n",
            "    https://scikit-learn.org/stable/modules/linear_model.html#logistic-regression\n",
            "  n_iter_i = _check_optimize_result(\n"
          ]
        },
        {
          "output_type": "execute_result",
          "data": {
            "text/plain": [
              "LogisticRegression()"
            ],
            "text/html": [
              "<style>#sk-container-id-1 {color: black;background-color: white;}#sk-container-id-1 pre{padding: 0;}#sk-container-id-1 div.sk-toggleable {background-color: white;}#sk-container-id-1 label.sk-toggleable__label {cursor: pointer;display: block;width: 100%;margin-bottom: 0;padding: 0.3em;box-sizing: border-box;text-align: center;}#sk-container-id-1 label.sk-toggleable__label-arrow:before {content: \"▸\";float: left;margin-right: 0.25em;color: #696969;}#sk-container-id-1 label.sk-toggleable__label-arrow:hover:before {color: black;}#sk-container-id-1 div.sk-estimator:hover label.sk-toggleable__label-arrow:before {color: black;}#sk-container-id-1 div.sk-toggleable__content {max-height: 0;max-width: 0;overflow: hidden;text-align: left;background-color: #f0f8ff;}#sk-container-id-1 div.sk-toggleable__content pre {margin: 0.2em;color: black;border-radius: 0.25em;background-color: #f0f8ff;}#sk-container-id-1 input.sk-toggleable__control:checked~div.sk-toggleable__content {max-height: 200px;max-width: 100%;overflow: auto;}#sk-container-id-1 input.sk-toggleable__control:checked~label.sk-toggleable__label-arrow:before {content: \"▾\";}#sk-container-id-1 div.sk-estimator input.sk-toggleable__control:checked~label.sk-toggleable__label {background-color: #d4ebff;}#sk-container-id-1 div.sk-label input.sk-toggleable__control:checked~label.sk-toggleable__label {background-color: #d4ebff;}#sk-container-id-1 input.sk-hidden--visually {border: 0;clip: rect(1px 1px 1px 1px);clip: rect(1px, 1px, 1px, 1px);height: 1px;margin: -1px;overflow: hidden;padding: 0;position: absolute;width: 1px;}#sk-container-id-1 div.sk-estimator {font-family: monospace;background-color: #f0f8ff;border: 1px dotted black;border-radius: 0.25em;box-sizing: border-box;margin-bottom: 0.5em;}#sk-container-id-1 div.sk-estimator:hover {background-color: #d4ebff;}#sk-container-id-1 div.sk-parallel-item::after {content: \"\";width: 100%;border-bottom: 1px solid gray;flex-grow: 1;}#sk-container-id-1 div.sk-label:hover label.sk-toggleable__label {background-color: #d4ebff;}#sk-container-id-1 div.sk-serial::before {content: \"\";position: absolute;border-left: 1px solid gray;box-sizing: border-box;top: 0;bottom: 0;left: 50%;z-index: 0;}#sk-container-id-1 div.sk-serial {display: flex;flex-direction: column;align-items: center;background-color: white;padding-right: 0.2em;padding-left: 0.2em;position: relative;}#sk-container-id-1 div.sk-item {position: relative;z-index: 1;}#sk-container-id-1 div.sk-parallel {display: flex;align-items: stretch;justify-content: center;background-color: white;position: relative;}#sk-container-id-1 div.sk-item::before, #sk-container-id-1 div.sk-parallel-item::before {content: \"\";position: absolute;border-left: 1px solid gray;box-sizing: border-box;top: 0;bottom: 0;left: 50%;z-index: -1;}#sk-container-id-1 div.sk-parallel-item {display: flex;flex-direction: column;z-index: 1;position: relative;background-color: white;}#sk-container-id-1 div.sk-parallel-item:first-child::after {align-self: flex-end;width: 50%;}#sk-container-id-1 div.sk-parallel-item:last-child::after {align-self: flex-start;width: 50%;}#sk-container-id-1 div.sk-parallel-item:only-child::after {width: 0;}#sk-container-id-1 div.sk-dashed-wrapped {border: 1px dashed gray;margin: 0 0.4em 0.5em 0.4em;box-sizing: border-box;padding-bottom: 0.4em;background-color: white;}#sk-container-id-1 div.sk-label label {font-family: monospace;font-weight: bold;display: inline-block;line-height: 1.2em;}#sk-container-id-1 div.sk-label-container {text-align: center;}#sk-container-id-1 div.sk-container {/* jupyter's `normalize.less` sets `[hidden] { display: none; }` but bootstrap.min.css set `[hidden] { display: none !important; }` so we also need the `!important` here to be able to override the default hidden behavior on the sphinx rendered scikit-learn.org. See: https://github.com/scikit-learn/scikit-learn/issues/21755 */display: inline-block !important;position: relative;}#sk-container-id-1 div.sk-text-repr-fallback {display: none;}</style><div id=\"sk-container-id-1\" class=\"sk-top-container\"><div class=\"sk-text-repr-fallback\"><pre>LogisticRegression()</pre><b>In a Jupyter environment, please rerun this cell to show the HTML representation or trust the notebook. <br />On GitHub, the HTML representation is unable to render, please try loading this page with nbviewer.org.</b></div><div class=\"sk-container\" hidden><div class=\"sk-item\"><div class=\"sk-estimator sk-toggleable\"><input class=\"sk-toggleable__control sk-hidden--visually\" id=\"sk-estimator-id-1\" type=\"checkbox\" checked><label for=\"sk-estimator-id-1\" class=\"sk-toggleable__label sk-toggleable__label-arrow\">LogisticRegression</label><div class=\"sk-toggleable__content\"><pre>LogisticRegression()</pre></div></div></div></div></div>"
            ]
          },
          "metadata": {},
          "execution_count": 36
        }
      ]
    },
    {
      "cell_type": "markdown",
      "source": [
        "Model Evaluation"
      ],
      "metadata": {
        "id": "NVVKqbNTww5T"
      }
    },
    {
      "cell_type": "markdown",
      "source": [
        "Accuracy Score"
      ],
      "metadata": {
        "id": "fhgFNuxsw173"
      }
    },
    {
      "cell_type": "code",
      "source": [
        "# accuracy on training data\n",
        "X_train_prediction = model.predict(X_train)\n",
        "trining_data_accuracy = accuracy_score(X_train_prediction, Y_train)"
      ],
      "metadata": {
        "id": "64ieKl03wdrN"
      },
      "execution_count": 37,
      "outputs": []
    },
    {
      "cell_type": "code",
      "source": [
        "print('Accuracy on Training data: ',trining_data_accuracy)"
      ],
      "metadata": {
        "colab": {
          "base_uri": "https://localhost:8080/"
        },
        "id": "dNoytGuoxO3C",
        "outputId": "dcce613b-4bd4-4430-de42-8f20642ee8cc"
      },
      "execution_count": 38,
      "outputs": [
        {
          "output_type": "stream",
          "name": "stdout",
          "text": [
            "Accuracy on Training data:  0.9314586994727593\n"
          ]
        }
      ]
    },
    {
      "cell_type": "code",
      "source": [
        "# accuracy on test data\n",
        "X_test_prediction = model.predict(X_test)\n",
        "test_data_accuracy = accuracy_score(X_test_prediction, Y_test)"
      ],
      "metadata": {
        "id": "iKu2u7QQxix-"
      },
      "execution_count": 39,
      "outputs": []
    },
    {
      "cell_type": "code",
      "source": [
        "print('Accuracy on Test data: ',test_data_accuracy)"
      ],
      "metadata": {
        "colab": {
          "base_uri": "https://localhost:8080/"
        },
        "id": "UOnMHgJzSB2k",
        "outputId": "95134433-c18c-42ab-a2b1-69b9721ce9fe"
      },
      "execution_count": 40,
      "outputs": [
        {
          "output_type": "stream",
          "name": "stdout",
          "text": [
            "Accuracy on Test data:  0.958041958041958\n"
          ]
        }
      ]
    },
    {
      "cell_type": "markdown",
      "source": [
        "test_data_accuracy > triaining data accuracy\n",
        "mean the Model is Under Fitted. It over-generaise the learning\n",
        "\n",
        "Here it is very similar, so very good accuracy"
      ],
      "metadata": {
        "id": "atAkeyEUZxUA"
      }
    }
  ]
}